{
 "cells": [
  {
   "cell_type": "markdown",
   "id": "bfe5e8ec-1f3f-4105-8054-85e4d59a88bf",
   "metadata": {},
   "source": [
    "## Decision Tree Task"
   ]
  },
  {
   "cell_type": "markdown",
   "id": "05a3afe0-651b-435d-b3b7-969cf2d55927",
   "metadata": {},
   "source": [
    "### 약물 A, B, C, X, Y\r\n",
    "##### 다중 분류(Multiclass Classification)\r\n",
    "- 의학 연구원으로서 동일한 질병을 앓고 있는 일련의 환자에 대한 데이터를 수집했다.\r\n",
    "- 치료 과정 동안 각 환자는 5가지 약물, 즉 약물 A, 약물 B, 약물 c, 약물 x 및 y 중 하나에 반응했다.\r\n",
    "-  미래에 동일한 질병을 앓는 환자에게 어떤 약물이 적합할 수 있는지 알아보기 위한 모델을 구축한다."
   ]
  },
  {
   "cell_type": "markdown",
   "id": "605f3824-1497-4473-af59-19cb00b29b15",
   "metadata": {},
   "source": [
    "##### feature\n",
    "- Age: 환자의 나이\n",
    "- Sex: 환자의 성별\n",
    "- BP: 혈압\n",
    "- Cholesterol: 콜레스테롤 수치\n",
    "- Na_to_K: 나트륨-칼륨\n",
    "\n",
    "##### target\n",
    "- Drug: 의약품, 환자에게 효과가 있었던 약"
   ]
  },
  {
   "cell_type": "code",
   "execution_count": 1,
   "id": "80ed7492-dd15-4aa4-88ad-35d50ac4ac42",
   "metadata": {},
   "outputs": [
    {
     "data": {
      "text/html": [
       "<div>\n",
       "<style scoped>\n",
       "    .dataframe tbody tr th:only-of-type {\n",
       "        vertical-align: middle;\n",
       "    }\n",
       "\n",
       "    .dataframe tbody tr th {\n",
       "        vertical-align: top;\n",
       "    }\n",
       "\n",
       "    .dataframe thead th {\n",
       "        text-align: right;\n",
       "    }\n",
       "</style>\n",
       "<table border=\"1\" class=\"dataframe\">\n",
       "  <thead>\n",
       "    <tr style=\"text-align: right;\">\n",
       "      <th></th>\n",
       "      <th>Age</th>\n",
       "      <th>Sex</th>\n",
       "      <th>BP</th>\n",
       "      <th>Cholesterol</th>\n",
       "      <th>Na_to_K</th>\n",
       "      <th>Drug</th>\n",
       "    </tr>\n",
       "  </thead>\n",
       "  <tbody>\n",
       "    <tr>\n",
       "      <th>0</th>\n",
       "      <td>23</td>\n",
       "      <td>F</td>\n",
       "      <td>HIGH</td>\n",
       "      <td>HIGH</td>\n",
       "      <td>25.355</td>\n",
       "      <td>drugY</td>\n",
       "    </tr>\n",
       "    <tr>\n",
       "      <th>1</th>\n",
       "      <td>47</td>\n",
       "      <td>M</td>\n",
       "      <td>LOW</td>\n",
       "      <td>HIGH</td>\n",
       "      <td>13.093</td>\n",
       "      <td>drugC</td>\n",
       "    </tr>\n",
       "    <tr>\n",
       "      <th>2</th>\n",
       "      <td>47</td>\n",
       "      <td>M</td>\n",
       "      <td>LOW</td>\n",
       "      <td>HIGH</td>\n",
       "      <td>10.114</td>\n",
       "      <td>drugC</td>\n",
       "    </tr>\n",
       "    <tr>\n",
       "      <th>3</th>\n",
       "      <td>28</td>\n",
       "      <td>F</td>\n",
       "      <td>NORMAL</td>\n",
       "      <td>HIGH</td>\n",
       "      <td>7.798</td>\n",
       "      <td>drugX</td>\n",
       "    </tr>\n",
       "    <tr>\n",
       "      <th>4</th>\n",
       "      <td>61</td>\n",
       "      <td>F</td>\n",
       "      <td>LOW</td>\n",
       "      <td>HIGH</td>\n",
       "      <td>18.043</td>\n",
       "      <td>drugY</td>\n",
       "    </tr>\n",
       "    <tr>\n",
       "      <th>...</th>\n",
       "      <td>...</td>\n",
       "      <td>...</td>\n",
       "      <td>...</td>\n",
       "      <td>...</td>\n",
       "      <td>...</td>\n",
       "      <td>...</td>\n",
       "    </tr>\n",
       "    <tr>\n",
       "      <th>195</th>\n",
       "      <td>56</td>\n",
       "      <td>F</td>\n",
       "      <td>LOW</td>\n",
       "      <td>HIGH</td>\n",
       "      <td>11.567</td>\n",
       "      <td>drugC</td>\n",
       "    </tr>\n",
       "    <tr>\n",
       "      <th>196</th>\n",
       "      <td>16</td>\n",
       "      <td>M</td>\n",
       "      <td>LOW</td>\n",
       "      <td>HIGH</td>\n",
       "      <td>12.006</td>\n",
       "      <td>drugC</td>\n",
       "    </tr>\n",
       "    <tr>\n",
       "      <th>197</th>\n",
       "      <td>52</td>\n",
       "      <td>M</td>\n",
       "      <td>NORMAL</td>\n",
       "      <td>HIGH</td>\n",
       "      <td>9.894</td>\n",
       "      <td>drugX</td>\n",
       "    </tr>\n",
       "    <tr>\n",
       "      <th>198</th>\n",
       "      <td>23</td>\n",
       "      <td>M</td>\n",
       "      <td>NORMAL</td>\n",
       "      <td>NORMAL</td>\n",
       "      <td>14.020</td>\n",
       "      <td>drugX</td>\n",
       "    </tr>\n",
       "    <tr>\n",
       "      <th>199</th>\n",
       "      <td>40</td>\n",
       "      <td>F</td>\n",
       "      <td>LOW</td>\n",
       "      <td>NORMAL</td>\n",
       "      <td>11.349</td>\n",
       "      <td>drugX</td>\n",
       "    </tr>\n",
       "  </tbody>\n",
       "</table>\n",
       "<p>200 rows × 6 columns</p>\n",
       "</div>"
      ],
      "text/plain": [
       "     Age Sex      BP Cholesterol  Na_to_K   Drug\n",
       "0     23   F    HIGH        HIGH   25.355  drugY\n",
       "1     47   M     LOW        HIGH   13.093  drugC\n",
       "2     47   M     LOW        HIGH   10.114  drugC\n",
       "3     28   F  NORMAL        HIGH    7.798  drugX\n",
       "4     61   F     LOW        HIGH   18.043  drugY\n",
       "..   ...  ..     ...         ...      ...    ...\n",
       "195   56   F     LOW        HIGH   11.567  drugC\n",
       "196   16   M     LOW        HIGH   12.006  drugC\n",
       "197   52   M  NORMAL        HIGH    9.894  drugX\n",
       "198   23   M  NORMAL      NORMAL   14.020  drugX\n",
       "199   40   F     LOW      NORMAL   11.349  drugX\n",
       "\n",
       "[200 rows x 6 columns]"
      ]
     },
     "execution_count": 1,
     "metadata": {},
     "output_type": "execute_result"
    }
   ],
   "source": [
    "import pandas as pd\n",
    "drug_df = pd.read_csv('./datasets/drugs.csv')\n",
    "drug_df"
   ]
  },
  {
   "cell_type": "code",
   "execution_count": 2,
   "id": "4d014161-8eda-41e3-bbb3-48994f0da6db",
   "metadata": {},
   "outputs": [
    {
     "data": {
      "text/plain": [
       "Age            0\n",
       "Sex            0\n",
       "BP             0\n",
       "Cholesterol    0\n",
       "Na_to_K        0\n",
       "Drug           0\n",
       "dtype: int64"
      ]
     },
     "execution_count": 2,
     "metadata": {},
     "output_type": "execute_result"
    }
   ],
   "source": [
    "drug_df.isna().sum()"
   ]
  },
  {
   "cell_type": "code",
   "execution_count": 3,
   "id": "7e97ab73-bbd2-430a-908d-0d77adf57853",
   "metadata": {},
   "outputs": [
    {
     "data": {
      "text/html": [
       "<div>\n",
       "<style scoped>\n",
       "    .dataframe tbody tr th:only-of-type {\n",
       "        vertical-align: middle;\n",
       "    }\n",
       "\n",
       "    .dataframe tbody tr th {\n",
       "        vertical-align: top;\n",
       "    }\n",
       "\n",
       "    .dataframe thead th {\n",
       "        text-align: right;\n",
       "    }\n",
       "</style>\n",
       "<table border=\"1\" class=\"dataframe\">\n",
       "  <thead>\n",
       "    <tr style=\"text-align: right;\">\n",
       "      <th></th>\n",
       "      <th>Age</th>\n",
       "      <th>Na_to_K</th>\n",
       "    </tr>\n",
       "  </thead>\n",
       "  <tbody>\n",
       "    <tr>\n",
       "      <th>count</th>\n",
       "      <td>200.000000</td>\n",
       "      <td>200.000000</td>\n",
       "    </tr>\n",
       "    <tr>\n",
       "      <th>mean</th>\n",
       "      <td>44.315000</td>\n",
       "      <td>16.084485</td>\n",
       "    </tr>\n",
       "    <tr>\n",
       "      <th>std</th>\n",
       "      <td>16.544315</td>\n",
       "      <td>7.223956</td>\n",
       "    </tr>\n",
       "    <tr>\n",
       "      <th>min</th>\n",
       "      <td>15.000000</td>\n",
       "      <td>6.269000</td>\n",
       "    </tr>\n",
       "    <tr>\n",
       "      <th>25%</th>\n",
       "      <td>31.000000</td>\n",
       "      <td>10.445500</td>\n",
       "    </tr>\n",
       "    <tr>\n",
       "      <th>50%</th>\n",
       "      <td>45.000000</td>\n",
       "      <td>13.936500</td>\n",
       "    </tr>\n",
       "    <tr>\n",
       "      <th>75%</th>\n",
       "      <td>58.000000</td>\n",
       "      <td>19.380000</td>\n",
       "    </tr>\n",
       "    <tr>\n",
       "      <th>max</th>\n",
       "      <td>74.000000</td>\n",
       "      <td>38.247000</td>\n",
       "    </tr>\n",
       "  </tbody>\n",
       "</table>\n",
       "</div>"
      ],
      "text/plain": [
       "              Age     Na_to_K\n",
       "count  200.000000  200.000000\n",
       "mean    44.315000   16.084485\n",
       "std     16.544315    7.223956\n",
       "min     15.000000    6.269000\n",
       "25%     31.000000   10.445500\n",
       "50%     45.000000   13.936500\n",
       "75%     58.000000   19.380000\n",
       "max     74.000000   38.247000"
      ]
     },
     "execution_count": 3,
     "metadata": {},
     "output_type": "execute_result"
    }
   ],
   "source": [
    "drug_df.describe()"
   ]
  },
  {
   "cell_type": "code",
   "execution_count": 4,
   "id": "bbb47a45-300e-4f37-af07-29ce0a936d9a",
   "metadata": {},
   "outputs": [
    {
     "data": {
      "text/plain": [
       "Drug\n",
       "drugY    91\n",
       "drugX    54\n",
       "drugA    23\n",
       "drugC    16\n",
       "drugB    16\n",
       "Name: count, dtype: int64"
      ]
     },
     "execution_count": 4,
     "metadata": {},
     "output_type": "execute_result"
    }
   ],
   "source": [
    "drug_df['Drug'].value_counts()"
   ]
  },
  {
   "cell_type": "code",
   "execution_count": 5,
   "id": "d613e8a2-5762-4671-b94d-c7d50eb6f24a",
   "metadata": {},
   "outputs": [
    {
     "data": {
      "text/plain": [
       "BP\n",
       "HIGH      77\n",
       "LOW       64\n",
       "NORMAL    59\n",
       "Name: count, dtype: int64"
      ]
     },
     "execution_count": 5,
     "metadata": {},
     "output_type": "execute_result"
    }
   ],
   "source": [
    "drug_df['BP'].value_counts()"
   ]
  },
  {
   "cell_type": "code",
   "execution_count": 6,
   "id": "20e681dd-158a-4cc9-ad5c-fa8e58744aaf",
   "metadata": {},
   "outputs": [
    {
     "data": {
      "text/plain": [
       "Cholesterol\n",
       "HIGH      103\n",
       "NORMAL     97\n",
       "Name: count, dtype: int64"
      ]
     },
     "execution_count": 6,
     "metadata": {},
     "output_type": "execute_result"
    }
   ],
   "source": [
    "drug_df['Cholesterol'].value_counts()"
   ]
  },
  {
   "cell_type": "code",
   "execution_count": 7,
   "id": "91ac1cb3-7fd6-43d8-b5aa-af3ccf205e48",
   "metadata": {},
   "outputs": [],
   "source": [
    "# 'Sex' 열을 변환\n",
    "drug_df['Sex'] = drug_df['Sex'].apply(lambda x: 1 if x == 'F' else 0)\n",
    "\n",
    "# 'BP' 열을 변환\n",
    "bp_mapping = {'LOW': 1, 'NORMAL': 2, 'HIGH': 3}\n",
    "drug_df['BP'] = drug_df['BP'].map(bp_mapping)\n",
    "\n",
    "# 'Cholesterol' 열을 변환\n",
    "ch_mapping = {'NORMAL': 1, 'HIGH': 2}\n",
    "drug_df['Cholesterol'] = drug_df['Cholesterol'].map(ch_mapping)\n"
   ]
  },
  {
   "cell_type": "code",
   "execution_count": 8,
   "id": "25c7b8ee-a9c9-4ff9-99ad-9aa6abd57222",
   "metadata": {},
   "outputs": [
    {
     "data": {
      "text/html": [
       "<div>\n",
       "<style scoped>\n",
       "    .dataframe tbody tr th:only-of-type {\n",
       "        vertical-align: middle;\n",
       "    }\n",
       "\n",
       "    .dataframe tbody tr th {\n",
       "        vertical-align: top;\n",
       "    }\n",
       "\n",
       "    .dataframe thead th {\n",
       "        text-align: right;\n",
       "    }\n",
       "</style>\n",
       "<table border=\"1\" class=\"dataframe\">\n",
       "  <thead>\n",
       "    <tr style=\"text-align: right;\">\n",
       "      <th></th>\n",
       "      <th>Age</th>\n",
       "      <th>Sex</th>\n",
       "      <th>BP</th>\n",
       "      <th>Cholesterol</th>\n",
       "      <th>Na_to_K</th>\n",
       "      <th>Drug</th>\n",
       "    </tr>\n",
       "  </thead>\n",
       "  <tbody>\n",
       "    <tr>\n",
       "      <th>0</th>\n",
       "      <td>23</td>\n",
       "      <td>1</td>\n",
       "      <td>3</td>\n",
       "      <td>2</td>\n",
       "      <td>25.355</td>\n",
       "      <td>drugY</td>\n",
       "    </tr>\n",
       "    <tr>\n",
       "      <th>1</th>\n",
       "      <td>47</td>\n",
       "      <td>0</td>\n",
       "      <td>1</td>\n",
       "      <td>2</td>\n",
       "      <td>13.093</td>\n",
       "      <td>drugC</td>\n",
       "    </tr>\n",
       "    <tr>\n",
       "      <th>2</th>\n",
       "      <td>47</td>\n",
       "      <td>0</td>\n",
       "      <td>1</td>\n",
       "      <td>2</td>\n",
       "      <td>10.114</td>\n",
       "      <td>drugC</td>\n",
       "    </tr>\n",
       "    <tr>\n",
       "      <th>3</th>\n",
       "      <td>28</td>\n",
       "      <td>1</td>\n",
       "      <td>2</td>\n",
       "      <td>2</td>\n",
       "      <td>7.798</td>\n",
       "      <td>drugX</td>\n",
       "    </tr>\n",
       "    <tr>\n",
       "      <th>4</th>\n",
       "      <td>61</td>\n",
       "      <td>1</td>\n",
       "      <td>1</td>\n",
       "      <td>2</td>\n",
       "      <td>18.043</td>\n",
       "      <td>drugY</td>\n",
       "    </tr>\n",
       "    <tr>\n",
       "      <th>...</th>\n",
       "      <td>...</td>\n",
       "      <td>...</td>\n",
       "      <td>...</td>\n",
       "      <td>...</td>\n",
       "      <td>...</td>\n",
       "      <td>...</td>\n",
       "    </tr>\n",
       "    <tr>\n",
       "      <th>195</th>\n",
       "      <td>56</td>\n",
       "      <td>1</td>\n",
       "      <td>1</td>\n",
       "      <td>2</td>\n",
       "      <td>11.567</td>\n",
       "      <td>drugC</td>\n",
       "    </tr>\n",
       "    <tr>\n",
       "      <th>196</th>\n",
       "      <td>16</td>\n",
       "      <td>0</td>\n",
       "      <td>1</td>\n",
       "      <td>2</td>\n",
       "      <td>12.006</td>\n",
       "      <td>drugC</td>\n",
       "    </tr>\n",
       "    <tr>\n",
       "      <th>197</th>\n",
       "      <td>52</td>\n",
       "      <td>0</td>\n",
       "      <td>2</td>\n",
       "      <td>2</td>\n",
       "      <td>9.894</td>\n",
       "      <td>drugX</td>\n",
       "    </tr>\n",
       "    <tr>\n",
       "      <th>198</th>\n",
       "      <td>23</td>\n",
       "      <td>0</td>\n",
       "      <td>2</td>\n",
       "      <td>1</td>\n",
       "      <td>14.020</td>\n",
       "      <td>drugX</td>\n",
       "    </tr>\n",
       "    <tr>\n",
       "      <th>199</th>\n",
       "      <td>40</td>\n",
       "      <td>1</td>\n",
       "      <td>1</td>\n",
       "      <td>1</td>\n",
       "      <td>11.349</td>\n",
       "      <td>drugX</td>\n",
       "    </tr>\n",
       "  </tbody>\n",
       "</table>\n",
       "<p>200 rows × 6 columns</p>\n",
       "</div>"
      ],
      "text/plain": [
       "     Age  Sex  BP  Cholesterol  Na_to_K   Drug\n",
       "0     23    1   3            2   25.355  drugY\n",
       "1     47    0   1            2   13.093  drugC\n",
       "2     47    0   1            2   10.114  drugC\n",
       "3     28    1   2            2    7.798  drugX\n",
       "4     61    1   1            2   18.043  drugY\n",
       "..   ...  ...  ..          ...      ...    ...\n",
       "195   56    1   1            2   11.567  drugC\n",
       "196   16    0   1            2   12.006  drugC\n",
       "197   52    0   2            2    9.894  drugX\n",
       "198   23    0   2            1   14.020  drugX\n",
       "199   40    1   1            1   11.349  drugX\n",
       "\n",
       "[200 rows x 6 columns]"
      ]
     },
     "execution_count": 8,
     "metadata": {},
     "output_type": "execute_result"
    }
   ],
   "source": [
    "drug_df"
   ]
  },
  {
   "cell_type": "code",
   "execution_count": 9,
   "id": "6f15613e-ccab-448c-9492-630ecab19036",
   "metadata": {},
   "outputs": [
    {
     "data": {
      "text/plain": [
       "0      drugY\n",
       "1      drugC\n",
       "2      drugC\n",
       "3      drugX\n",
       "4      drugY\n",
       "       ...  \n",
       "195    drugC\n",
       "196    drugC\n",
       "197    drugX\n",
       "198    drugX\n",
       "199    drugX\n",
       "Name: Drug, Length: 200, dtype: object"
      ]
     },
     "execution_count": 9,
     "metadata": {},
     "output_type": "execute_result"
    }
   ],
   "source": [
    "drug_df.iloc[:,-1]"
   ]
  },
  {
   "cell_type": "code",
   "execution_count": 10,
   "id": "42e4335f-5cdc-452c-8449-7596d6801ba9",
   "metadata": {},
   "outputs": [
    {
     "data": {
      "text/html": [
       "<div>\n",
       "<style scoped>\n",
       "    .dataframe tbody tr th:only-of-type {\n",
       "        vertical-align: middle;\n",
       "    }\n",
       "\n",
       "    .dataframe tbody tr th {\n",
       "        vertical-align: top;\n",
       "    }\n",
       "\n",
       "    .dataframe thead th {\n",
       "        text-align: right;\n",
       "    }\n",
       "</style>\n",
       "<table border=\"1\" class=\"dataframe\">\n",
       "  <thead>\n",
       "    <tr style=\"text-align: right;\">\n",
       "      <th></th>\n",
       "      <th>Age</th>\n",
       "      <th>Sex</th>\n",
       "      <th>BP</th>\n",
       "      <th>Cholesterol</th>\n",
       "      <th>Na_to_K</th>\n",
       "    </tr>\n",
       "  </thead>\n",
       "  <tbody>\n",
       "    <tr>\n",
       "      <th>0</th>\n",
       "      <td>23</td>\n",
       "      <td>1</td>\n",
       "      <td>3</td>\n",
       "      <td>2</td>\n",
       "      <td>25.355</td>\n",
       "    </tr>\n",
       "    <tr>\n",
       "      <th>1</th>\n",
       "      <td>47</td>\n",
       "      <td>0</td>\n",
       "      <td>1</td>\n",
       "      <td>2</td>\n",
       "      <td>13.093</td>\n",
       "    </tr>\n",
       "    <tr>\n",
       "      <th>2</th>\n",
       "      <td>47</td>\n",
       "      <td>0</td>\n",
       "      <td>1</td>\n",
       "      <td>2</td>\n",
       "      <td>10.114</td>\n",
       "    </tr>\n",
       "    <tr>\n",
       "      <th>3</th>\n",
       "      <td>28</td>\n",
       "      <td>1</td>\n",
       "      <td>2</td>\n",
       "      <td>2</td>\n",
       "      <td>7.798</td>\n",
       "    </tr>\n",
       "    <tr>\n",
       "      <th>4</th>\n",
       "      <td>61</td>\n",
       "      <td>1</td>\n",
       "      <td>1</td>\n",
       "      <td>2</td>\n",
       "      <td>18.043</td>\n",
       "    </tr>\n",
       "    <tr>\n",
       "      <th>...</th>\n",
       "      <td>...</td>\n",
       "      <td>...</td>\n",
       "      <td>...</td>\n",
       "      <td>...</td>\n",
       "      <td>...</td>\n",
       "    </tr>\n",
       "    <tr>\n",
       "      <th>195</th>\n",
       "      <td>56</td>\n",
       "      <td>1</td>\n",
       "      <td>1</td>\n",
       "      <td>2</td>\n",
       "      <td>11.567</td>\n",
       "    </tr>\n",
       "    <tr>\n",
       "      <th>196</th>\n",
       "      <td>16</td>\n",
       "      <td>0</td>\n",
       "      <td>1</td>\n",
       "      <td>2</td>\n",
       "      <td>12.006</td>\n",
       "    </tr>\n",
       "    <tr>\n",
       "      <th>197</th>\n",
       "      <td>52</td>\n",
       "      <td>0</td>\n",
       "      <td>2</td>\n",
       "      <td>2</td>\n",
       "      <td>9.894</td>\n",
       "    </tr>\n",
       "    <tr>\n",
       "      <th>198</th>\n",
       "      <td>23</td>\n",
       "      <td>0</td>\n",
       "      <td>2</td>\n",
       "      <td>1</td>\n",
       "      <td>14.020</td>\n",
       "    </tr>\n",
       "    <tr>\n",
       "      <th>199</th>\n",
       "      <td>40</td>\n",
       "      <td>1</td>\n",
       "      <td>1</td>\n",
       "      <td>1</td>\n",
       "      <td>11.349</td>\n",
       "    </tr>\n",
       "  </tbody>\n",
       "</table>\n",
       "<p>200 rows × 5 columns</p>\n",
       "</div>"
      ],
      "text/plain": [
       "     Age  Sex  BP  Cholesterol  Na_to_K\n",
       "0     23    1   3            2   25.355\n",
       "1     47    0   1            2   13.093\n",
       "2     47    0   1            2   10.114\n",
       "3     28    1   2            2    7.798\n",
       "4     61    1   1            2   18.043\n",
       "..   ...  ...  ..          ...      ...\n",
       "195   56    1   1            2   11.567\n",
       "196   16    0   1            2   12.006\n",
       "197   52    0   2            2    9.894\n",
       "198   23    0   2            1   14.020\n",
       "199   40    1   1            1   11.349\n",
       "\n",
       "[200 rows x 5 columns]"
      ]
     },
     "execution_count": 10,
     "metadata": {},
     "output_type": "execute_result"
    }
   ],
   "source": [
    "drug_df.iloc[:,:-1]"
   ]
  },
  {
   "cell_type": "code",
   "execution_count": 11,
   "id": "83b19f98-f040-4534-b16f-2ca4dc730364",
   "metadata": {},
   "outputs": [
    {
     "data": {
      "text/html": [
       "<style>#sk-container-id-1 {color: black;background-color: white;}#sk-container-id-1 pre{padding: 0;}#sk-container-id-1 div.sk-toggleable {background-color: white;}#sk-container-id-1 label.sk-toggleable__label {cursor: pointer;display: block;width: 100%;margin-bottom: 0;padding: 0.3em;box-sizing: border-box;text-align: center;}#sk-container-id-1 label.sk-toggleable__label-arrow:before {content: \"▸\";float: left;margin-right: 0.25em;color: #696969;}#sk-container-id-1 label.sk-toggleable__label-arrow:hover:before {color: black;}#sk-container-id-1 div.sk-estimator:hover label.sk-toggleable__label-arrow:before {color: black;}#sk-container-id-1 div.sk-toggleable__content {max-height: 0;max-width: 0;overflow: hidden;text-align: left;background-color: #f0f8ff;}#sk-container-id-1 div.sk-toggleable__content pre {margin: 0.2em;color: black;border-radius: 0.25em;background-color: #f0f8ff;}#sk-container-id-1 input.sk-toggleable__control:checked~div.sk-toggleable__content {max-height: 200px;max-width: 100%;overflow: auto;}#sk-container-id-1 input.sk-toggleable__control:checked~label.sk-toggleable__label-arrow:before {content: \"▾\";}#sk-container-id-1 div.sk-estimator input.sk-toggleable__control:checked~label.sk-toggleable__label {background-color: #d4ebff;}#sk-container-id-1 div.sk-label input.sk-toggleable__control:checked~label.sk-toggleable__label {background-color: #d4ebff;}#sk-container-id-1 input.sk-hidden--visually {border: 0;clip: rect(1px 1px 1px 1px);clip: rect(1px, 1px, 1px, 1px);height: 1px;margin: -1px;overflow: hidden;padding: 0;position: absolute;width: 1px;}#sk-container-id-1 div.sk-estimator {font-family: monospace;background-color: #f0f8ff;border: 1px dotted black;border-radius: 0.25em;box-sizing: border-box;margin-bottom: 0.5em;}#sk-container-id-1 div.sk-estimator:hover {background-color: #d4ebff;}#sk-container-id-1 div.sk-parallel-item::after {content: \"\";width: 100%;border-bottom: 1px solid gray;flex-grow: 1;}#sk-container-id-1 div.sk-label:hover label.sk-toggleable__label {background-color: #d4ebff;}#sk-container-id-1 div.sk-serial::before {content: \"\";position: absolute;border-left: 1px solid gray;box-sizing: border-box;top: 0;bottom: 0;left: 50%;z-index: 0;}#sk-container-id-1 div.sk-serial {display: flex;flex-direction: column;align-items: center;background-color: white;padding-right: 0.2em;padding-left: 0.2em;position: relative;}#sk-container-id-1 div.sk-item {position: relative;z-index: 1;}#sk-container-id-1 div.sk-parallel {display: flex;align-items: stretch;justify-content: center;background-color: white;position: relative;}#sk-container-id-1 div.sk-item::before, #sk-container-id-1 div.sk-parallel-item::before {content: \"\";position: absolute;border-left: 1px solid gray;box-sizing: border-box;top: 0;bottom: 0;left: 50%;z-index: -1;}#sk-container-id-1 div.sk-parallel-item {display: flex;flex-direction: column;z-index: 1;position: relative;background-color: white;}#sk-container-id-1 div.sk-parallel-item:first-child::after {align-self: flex-end;width: 50%;}#sk-container-id-1 div.sk-parallel-item:last-child::after {align-self: flex-start;width: 50%;}#sk-container-id-1 div.sk-parallel-item:only-child::after {width: 0;}#sk-container-id-1 div.sk-dashed-wrapped {border: 1px dashed gray;margin: 0 0.4em 0.5em 0.4em;box-sizing: border-box;padding-bottom: 0.4em;background-color: white;}#sk-container-id-1 div.sk-label label {font-family: monospace;font-weight: bold;display: inline-block;line-height: 1.2em;}#sk-container-id-1 div.sk-label-container {text-align: center;}#sk-container-id-1 div.sk-container {/* jupyter's `normalize.less` sets `[hidden] { display: none; }` but bootstrap.min.css set `[hidden] { display: none !important; }` so we also need the `!important` here to be able to override the default hidden behavior on the sphinx rendered scikit-learn.org. See: https://github.com/scikit-learn/scikit-learn/issues/21755 */display: inline-block !important;position: relative;}#sk-container-id-1 div.sk-text-repr-fallback {display: none;}</style><div id=\"sk-container-id-1\" class=\"sk-top-container\"><div class=\"sk-text-repr-fallback\"><pre>DecisionTreeClassifier()</pre><b>In a Jupyter environment, please rerun this cell to show the HTML representation or trust the notebook. <br />On GitHub, the HTML representation is unable to render, please try loading this page with nbviewer.org.</b></div><div class=\"sk-container\" hidden><div class=\"sk-item\"><div class=\"sk-estimator sk-toggleable\"><input class=\"sk-toggleable__control sk-hidden--visually\" id=\"sk-estimator-id-1\" type=\"checkbox\" checked><label for=\"sk-estimator-id-1\" class=\"sk-toggleable__label sk-toggleable__label-arrow\">DecisionTreeClassifier</label><div class=\"sk-toggleable__content\"><pre>DecisionTreeClassifier()</pre></div></div></div></div></div>"
      ],
      "text/plain": [
       "DecisionTreeClassifier()"
      ]
     },
     "execution_count": 11,
     "metadata": {},
     "output_type": "execute_result"
    }
   ],
   "source": [
    "from sklearn.tree import DecisionTreeClassifier\n",
    "from sklearn.model_selection import train_test_split\n",
    "\n",
    "dtc = DecisionTreeClassifier()\n",
    "\n",
    "X_train, X_test, y_train, y_test =\\\n",
    "train_test_split(drug_df.iloc[:,:-1], drug_df.iloc[:,-1],test_size=0.2,random_state=3)\n",
    "dtc.fit(X_train, y_train)"
   ]
  },
  {
   "cell_type": "code",
   "execution_count": 12,
   "id": "311d016b-491d-419c-a03b-6cda7de6133a",
   "metadata": {},
   "outputs": [
    {
     "name": "stderr",
     "output_type": "stream",
     "text": [
      "C:\\ProgramData\\anaconda3\\Lib\\site-packages\\sklearn\\base.py:439: UserWarning: X does not have valid feature names, but DecisionTreeClassifier was fitted with feature names\n",
      "  warnings.warn(\n"
     ]
    },
    {
     "data": {
      "text/plain": [
       "1.0"
      ]
     },
     "execution_count": 12,
     "metadata": {},
     "output_type": "execute_result"
    }
   ],
   "source": [
    "from sklearn.metrics import accuracy_score\n",
    "\n",
    "accuracy_score(y_test,dtc.predict(X_test.values))"
   ]
  },
  {
   "cell_type": "code",
   "execution_count": 13,
   "id": "11094512-d1a8-4c1a-ac24-46a84b544b9e",
   "metadata": {},
   "outputs": [
    {
     "name": "stderr",
     "output_type": "stream",
     "text": [
      "C:\\ProgramData\\anaconda3\\Lib\\site-packages\\sklearn\\base.py:439: UserWarning: X does not have valid feature names, but DecisionTreeClassifier was fitted with feature names\n",
      "  warnings.warn(\n"
     ]
    },
    {
     "data": {
      "text/plain": [
       "array(['drugY', 'drugX', 'drugX', 'drugX', 'drugX', 'drugC', 'drugY',\n",
       "       'drugA', 'drugB', 'drugA', 'drugY', 'drugA', 'drugY', 'drugY',\n",
       "       'drugX', 'drugY', 'drugX', 'drugX', 'drugB', 'drugX', 'drugX',\n",
       "       'drugY', 'drugY', 'drugY', 'drugX', 'drugB', 'drugY', 'drugY',\n",
       "       'drugA', 'drugX', 'drugB', 'drugC', 'drugC', 'drugX', 'drugX',\n",
       "       'drugC', 'drugY', 'drugX', 'drugX', 'drugX'], dtype=object)"
      ]
     },
     "execution_count": 13,
     "metadata": {},
     "output_type": "execute_result"
    }
   ],
   "source": [
    "dtc.predict(X_test.values)"
   ]
  },
  {
   "cell_type": "code",
   "execution_count": 14,
   "id": "6551a76a-d763-4437-aa28-32cdb8d9ecdb",
   "metadata": {},
   "outputs": [],
   "source": [
    "from sklearn.tree import export_graphviz\n",
    "\n",
    "export_graphviz(\n",
    "    dtc,\n",
    "    out_file='./images/drug_dtc01.dot', \n",
    "    class_names=drug_df['Drug'], \n",
    "    feature_names = drug_df.drop(columns=['Drug']).columns,\n",
    "    impurity = True,\n",
    "    filled = True\n",
    "                )"
   ]
  },
  {
   "cell_type": "code",
   "execution_count": 15,
   "id": "f7a5cab7-0254-4f8d-8ca4-df8ad7c7a905",
   "metadata": {},
   "outputs": [],
   "source": [
    "import graphviz\n",
    "\n",
    "with open('./images/drug_dtc01.dot') as f:\n",
    "    drug_dtc01 = f.read()\n",
    "\n",
    "drug_dtc01_graph = graphviz.Source(drug_dtc01)"
   ]
  },
  {
   "cell_type": "code",
   "execution_count": 16,
   "id": "69d9a2e7-0ae5-4683-94b5-c505dbb7db0a",
   "metadata": {},
   "outputs": [
    {
     "data": {
      "text/plain": [
       "'images\\\\drug_dtc01.png'"
      ]
     },
     "execution_count": 16,
     "metadata": {},
     "output_type": "execute_result"
    }
   ],
   "source": [
    "drug_dtc01_graph.render(filename='drug_dtc01', directory='./images',format='png')"
   ]
  },
  {
   "cell_type": "markdown",
   "id": "a424e478-e785-4199-b84c-9a0f1ea8d77c",
   "metadata": {},
   "source": [
    "<img src='./images/drug_dtc01.png'>"
   ]
  },
  {
   "cell_type": "code",
   "execution_count": 17,
   "id": "dc674d0b-2d8a-4774-8464-5b438eef6a06",
   "metadata": {},
   "outputs": [
    {
     "data": {
      "text/plain": [
       "array([0.13631115, 0.        , 0.31218883, 0.06265946, 0.48884055])"
      ]
     },
     "execution_count": 17,
     "metadata": {},
     "output_type": "execute_result"
    }
   ],
   "source": [
    "dtc.feature_importances_"
   ]
  },
  {
   "cell_type": "code",
   "execution_count": 18,
   "id": "d2dd6280-f185-499c-822c-6965765c4e72",
   "metadata": {},
   "outputs": [
    {
     "name": "stdout",
     "output_type": "stream",
     "text": [
      "Index(['Age', 'Sex', 'BP', 'Cholesterol', 'Na_to_K'], dtype='object')\n",
      "[0.13631115 0.         0.31218883 0.06265946 0.48884055]\n"
     ]
    }
   ],
   "source": [
    "print(drug_df.drop(columns=['Drug']).columns)\n",
    "print(dtc.feature_importances_)"
   ]
  },
  {
   "cell_type": "code",
   "execution_count": 19,
   "id": "bb5aec4b-e68b-4b92-9bb0-e4bd8156c54e",
   "metadata": {},
   "outputs": [
    {
     "name": "stdout",
     "output_type": "stream",
     "text": [
      "Age:13.63\n",
      "Sex:0.0\n",
      "BP:31.22\n",
      "Cholesterol:6.27\n",
      "Na_to_K:48.88\n"
     ]
    }
   ],
   "source": [
    "for name, value in zip(drug_df.drop(columns=['Drug']).columns,dtc.feature_importances_):\n",
    "    print(f'{name}:{round(value*100,2)}')"
   ]
  },
  {
   "cell_type": "code",
   "execution_count": 20,
   "id": "8ac15a58-e398-4e9d-b935-3dfb56dcc47a",
   "metadata": {},
   "outputs": [
    {
     "data": {
      "image/png": "[encoded data removed]",
      "text/plain": [
       "<Figure size 640x480 with 1 Axes>"
      ]
     },
     "metadata": {},
     "output_type": "display_data"
    }
   ],
   "source": [
    "import matplotlib.pyplot as plt\n",
    "import seaborn as sns\n",
    "\n",
    "sns.barplot(x=dtc.feature_importances_, y=drug_df.drop(columns=['Drug']).columns)\n",
    "plt.show()"
   ]
  },
  {
   "cell_type": "code",
   "execution_count": 21,
   "id": "7aba1a7e-45c6-4c8c-a9f6-5e1cfb5d458d",
   "metadata": {},
   "outputs": [
    {
     "data": {
      "text/plain": [
       "array(['drugY', 'drugC', 'drugC', 'drugX', 'drugY', 'drugX', 'drugY',\n",
       "       'drugC', 'drugY', 'drugY', 'drugC', 'drugY', 'drugY', 'drugY',\n",
       "       'drugX', 'drugY', 'drugX', 'drugA', 'drugC', 'drugY', 'drugY',\n",
       "       'drugY', 'drugY', 'drugY', 'drugY', 'drugY', 'drugY', 'drugX',\n",
       "       'drugY', 'drugY', 'drugX', 'drugB', 'drugX', 'drugY', 'drugX',\n",
       "       'drugX', 'drugA', 'drugX', 'drugX', 'drugX', 'drugY', 'drugB',\n",
       "       'drugY', 'drugX', 'drugX', 'drugX', 'drugA', 'drugC', 'drugY',\n",
       "       'drugY', 'drugY', 'drugX', 'drugY', 'drugY', 'drugB', 'drugC',\n",
       "       'drugB', 'drugY', 'drugX', 'drugY', 'drugY', 'drugA', 'drugY',\n",
       "       'drugX', 'drugB', 'drugY', 'drugA', 'drugX', 'drugY', 'drugY',\n",
       "       'drugB', 'drugY', 'drugX', 'drugY', 'drugY', 'drugY', 'drugA',\n",
       "       'drugY', 'drugA', 'drugX', 'drugB', 'drugX', 'drugC', 'drugA',\n",
       "       'drugC', 'drugB', 'drugX', 'drugY', 'drugY', 'drugY', 'drugY',\n",
       "       'drugY', 'drugY', 'drugY', 'drugY', 'drugX', 'drugY', 'drugY',\n",
       "       'drugY', 'drugY', 'drugA', 'drugA', 'drugC', 'drugX', 'drugY',\n",
       "       'drugX', 'drugX', 'drugY', 'drugB', 'drugY', 'drugA', 'drugX',\n",
       "       'drugX', 'drugX', 'drugX', 'drugY', 'drugX', 'drugX', 'drugA',\n",
       "       'drugY', 'drugY', 'drugY', 'drugY', 'drugY', 'drugB', 'drugY',\n",
       "       'drugY', 'drugX', 'drugY', 'drugX', 'drugY', 'drugY', 'drugX',\n",
       "       'drugY', 'drugY', 'drugX', 'drugB', 'drugA', 'drugB', 'drugX',\n",
       "       'drugA', 'drugY', 'drugB', 'drugY', 'drugA', 'drugX', 'drugX',\n",
       "       'drugA', 'drugX', 'drugC', 'drugA', 'drugB', 'drugX', 'drugX',\n",
       "       'drugY', 'drugC', 'drugA', 'drugY', 'drugC', 'drugX', 'drugX',\n",
       "       'drugB', 'drugX', 'drugY', 'drugY', 'drugY', 'drugY', 'drugX',\n",
       "       'drugY', 'drugA', 'drugX', 'drugX', 'drugY', 'drugY', 'drugA',\n",
       "       'drugY', 'drugA', 'drugY', 'drugY', 'drugY', 'drugY', 'drugX',\n",
       "       'drugX', 'drugY', 'drugY', 'drugY', 'drugB', 'drugA', 'drugY',\n",
       "       'drugY', 'drugY', 'drugA', 'drugY', 'drugC', 'drugY', 'drugC',\n",
       "       'drugC', 'drugX', 'drugX', 'drugX'], dtype=object)"
      ]
     },
     "execution_count": 21,
     "metadata": {},
     "output_type": "execute_result"
    }
   ],
   "source": [
    "drug_df['Drug'].values"
   ]
  },
  {
   "cell_type": "code",
   "execution_count": 22,
   "id": "d3f898ee-8929-48d7-8b4d-47e571358b02",
   "metadata": {},
   "outputs": [],
   "source": [
    "# 'Cholesterol' 열을 변환\n",
    "drug_mapping = {'drugA': 1, 'drugB': 2,'drugC': 3,'drugX': 4,'drugY': 5,}\n",
    "drug_df['Drug'] = drug_df['Drug'].map(drug_mapping)"
   ]
  },
  {
   "cell_type": "code",
   "execution_count": 23,
   "id": "ef0fd3bf-6fb5-46cc-977a-d4ab03f290e9",
   "metadata": {},
   "outputs": [
    {
     "data": {
      "image/png": "[encoded data removed]",
      "text/plain": [
       "<Figure size 640x480 with 1 Axes>"
      ]
     },
     "metadata": {},
     "output_type": "display_data"
    }
   ],
   "source": [
    "features, targets = drug_df.drop(columns=['Drug']).values, drug_df['Drug'].values\n",
    "\n",
    "plt.scatter(features[:, 2], features[:, -1], c=targets, edgecolors='k', cmap='rainbow')\n",
    "plt.xlabel('Na_to_K')\n",
    "plt.ylabel('BP')\n",
    "plt.title('BP vs Cholesterol')\n",
    "plt.show()"
   ]
  },
  {
   "cell_type": "code",
   "execution_count": 24,
   "id": "f813626d-adc9-4fc6-b6d3-09e853487777",
   "metadata": {},
   "outputs": [],
   "source": [
    "import numpy as np\n",
    "\n",
    "# Classifier의 Decision Boundary를 시각화 하는 함수\n",
    "def visualize_boundary(model, X, y):\n",
    "    fig,ax = plt.subplots()\n",
    "    \n",
    "    # 학습 데이타 scatter plot으로 나타내기\n",
    "    ax.scatter(X[:, 0], X[:, 1], c=y, s=25, cmap='rainbow', edgecolor='k',\n",
    "               clim=(y.min(), y.max()), zorder=3)\n",
    "    ax.axis('tight')\n",
    "    ax.axis('off')\n",
    "    xlim_start , xlim_end = ax.get_xlim()\n",
    "    ylim_start , ylim_end = ax.get_ylim()\n",
    "    \n",
    "    # 호출 파라미터로 들어온 training 데이타로 model 학습 . \n",
    "    model.fit(X, y)\n",
    "    # meshgrid 형태인 모든 좌표값으로 예측 수행. \n",
    "    xx, yy = np.meshgrid(np.linspace(xlim_start,xlim_end, num=200),np.linspace(ylim_start,ylim_end, num=200))\n",
    "    Z = model.predict(np.c_[xx.ravel(), yy.ravel()]).reshape(xx.shape)\n",
    "    \n",
    "    # contourf() 를 이용하여 class boundary 를 visualization 수행. \n",
    "    n_classes = len(np.unique(y))\n",
    "    contours = ax.contourf(xx, yy, Z, alpha=0.3,\n",
    "                           levels=np.arange(n_classes + 1) - 0.5,\n",
    "                           cmap='rainbow',\n",
    "                           zorder=1)"
   ]
  },
  {
   "cell_type": "code",
   "execution_count": 25,
   "id": "2a8c9711-f036-481f-b5f2-64bee75bdbb4",
   "metadata": {},
   "outputs": [
    {
     "data": {
      "image/png": "[encoded data removed]",
      "text/plain": [
       "<Figure size 640x480 with 1 Axes>"
      ]
     },
     "metadata": {},
     "output_type": "display_data"
    }
   ],
   "source": [
    "features, targets = drug_df.drop(columns=['Drug']).values[:,[2,-1]], drug_df['Drug'].values\n",
    "dtc = DecisionTreeClassifier(random_state=3)\n",
    "dtc.fit(features,targets)\n",
    "\n",
    "visualize_boundary(dtc, features, targets)"
   ]
  },
  {
   "cell_type": "code",
   "execution_count": 26,
   "id": "b119dea9-5d17-4f44-9870-c406013611b2",
   "metadata": {},
   "outputs": [
    {
     "data": {
      "image/png": "[encoded data removed]",
      "text/plain": [
       "<Figure size 640x480 with 1 Axes>"
      ]
     },
     "metadata": {},
     "output_type": "display_data"
    }
   ],
   "source": [
    "features, targets = drug_df.drop(columns=['Drug']).values[:,[2,-1]], drug_df['Drug'].values\n",
    "dtc = DecisionTreeClassifier(random_state=3, min_samples_leaf= 100)\n",
    "dtc.fit(features,targets)\n",
    "\n",
    "visualize_boundary(dtc, features, targets)"
   ]
  },
  {
   "cell_type": "code",
   "execution_count": null,
   "id": "88323a41-299e-45c2-a4f1-a350b58a7eb5",
   "metadata": {},
   "outputs": [],
   "source": []
  }
 ],
 "metadata": {
  "kernelspec": {
   "display_name": "Python 3 (ipykernel)",
   "language": "python",
   "name": "python3"
  },
  "language_info": {
   "codemirror_mode": {
    "name": "ipython",
    "version": 3
   },
   "file_extension": ".py",
   "mimetype": "text/x-python",
   "name": "python",
   "nbconvert_exporter": "python",
   "pygments_lexer": "ipython3",
   "version": "3.11.8"
  }
 },
 "nbformat": 4,
 "nbformat_minor": 5
}
