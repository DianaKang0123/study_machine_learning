{
 "cells": [
  {
   "cell_type": "markdown",
   "id": "12f70c8f-55c0-43b2-86bb-b01f4746d73d",
   "metadata": {},
   "source": [
    "### OLS Task02\n",
    "\n",
    "#### 한국 아파트 가격 예측\n",
    "https://drive.google.com/file/d/1v3eNjo3TjTgUPlq6Uw_v_oEQ8sVjaItw/view?usp=share_link"
   ]
  },
  {
   "cell_type": "code",
   "execution_count": 1,
   "id": "8f64d8a4-166a-423a-a150-42d9d48aac9b",
   "metadata": {},
   "outputs": [],
   "source": [
    "import pandas as pd\n",
    "\n",
    "a_df = pd.read_csv('./datasets/korean_apart.csv', low_memory= False)"
   ]
  },
  {
   "cell_type": "code",
   "execution_count": 2,
   "id": "07205389-71cb-41d5-91f4-577f179ddd73",
   "metadata": {},
   "outputs": [
    {
     "data": {
      "text/html": [
       "<div>\n",
       "<style scoped>\n",
       "    .dataframe tbody tr th:only-of-type {\n",
       "        vertical-align: middle;\n",
       "    }\n",
       "\n",
       "    .dataframe tbody tr th {\n",
       "        vertical-align: top;\n",
       "    }\n",
       "\n",
       "    .dataframe thead th {\n",
       "        text-align: right;\n",
       "    }\n",
       "</style>\n",
       "<table border=\"1\" class=\"dataframe\">\n",
       "  <thead>\n",
       "    <tr style=\"text-align: right;\">\n",
       "      <th></th>\n",
       "      <th>지역코드</th>\n",
       "      <th>동</th>\n",
       "      <th>거래일</th>\n",
       "      <th>아파트</th>\n",
       "      <th>지번</th>\n",
       "      <th>전용면적</th>\n",
       "      <th>층</th>\n",
       "      <th>건축년도</th>\n",
       "      <th>거래금액</th>\n",
       "    </tr>\n",
       "  </thead>\n",
       "  <tbody>\n",
       "    <tr>\n",
       "      <th>0</th>\n",
       "      <td>31110.0</td>\n",
       "      <td>학성동</td>\n",
       "      <td>5/30/2020 0:00</td>\n",
       "      <td>남운학성타운</td>\n",
       "      <td>379</td>\n",
       "      <td>135.5800</td>\n",
       "      <td>8</td>\n",
       "      <td>1991.0</td>\n",
       "      <td>26700</td>\n",
       "    </tr>\n",
       "    <tr>\n",
       "      <th>1</th>\n",
       "      <td>31110.0</td>\n",
       "      <td>남외동</td>\n",
       "      <td>1/3/2020 0:00</td>\n",
       "      <td>남외푸르지오1차</td>\n",
       "      <td>506-1</td>\n",
       "      <td>101.6000</td>\n",
       "      <td>2</td>\n",
       "      <td>2006.0</td>\n",
       "      <td>35500</td>\n",
       "    </tr>\n",
       "    <tr>\n",
       "      <th>2</th>\n",
       "      <td>31110.0</td>\n",
       "      <td>남외동</td>\n",
       "      <td>1/3/2020 0:00</td>\n",
       "      <td>에일린의뜰</td>\n",
       "      <td>500</td>\n",
       "      <td>84.9920</td>\n",
       "      <td>11</td>\n",
       "      <td>2007.0</td>\n",
       "      <td>36500</td>\n",
       "    </tr>\n",
       "    <tr>\n",
       "      <th>3</th>\n",
       "      <td>31110.0</td>\n",
       "      <td>남외동</td>\n",
       "      <td>1/3/2020 0:00</td>\n",
       "      <td>남외푸르지오1차</td>\n",
       "      <td>506-1</td>\n",
       "      <td>118.7060</td>\n",
       "      <td>8</td>\n",
       "      <td>2006.0</td>\n",
       "      <td>43000</td>\n",
       "    </tr>\n",
       "    <tr>\n",
       "      <th>4</th>\n",
       "      <td>31110.0</td>\n",
       "      <td>남외동</td>\n",
       "      <td>1/4/2020 0:00</td>\n",
       "      <td>남외푸르지오2차</td>\n",
       "      <td>501-1</td>\n",
       "      <td>84.9636</td>\n",
       "      <td>7</td>\n",
       "      <td>2007.0</td>\n",
       "      <td>38700</td>\n",
       "    </tr>\n",
       "    <tr>\n",
       "      <th>...</th>\n",
       "      <td>...</td>\n",
       "      <td>...</td>\n",
       "      <td>...</td>\n",
       "      <td>...</td>\n",
       "      <td>...</td>\n",
       "      <td>...</td>\n",
       "      <td>...</td>\n",
       "      <td>...</td>\n",
       "      <td>...</td>\n",
       "    </tr>\n",
       "    <tr>\n",
       "      <th>5002834</th>\n",
       "      <td>50130.0</td>\n",
       "      <td>대정읍 하모리</td>\n",
       "      <td>2023-06-29 00:00:00</td>\n",
       "      <td>더그라벨아파트</td>\n",
       "      <td>1221-1</td>\n",
       "      <td>57.1300</td>\n",
       "      <td>6</td>\n",
       "      <td>2019.0</td>\n",
       "      <td>19,500</td>\n",
       "    </tr>\n",
       "    <tr>\n",
       "      <th>5002835</th>\n",
       "      <td>50130.0</td>\n",
       "      <td>동홍동</td>\n",
       "      <td>2023-07-04 00:00:00</td>\n",
       "      <td>주공5차(동홍5차)</td>\n",
       "      <td>1674</td>\n",
       "      <td>49.8700</td>\n",
       "      <td>2</td>\n",
       "      <td>1999.0</td>\n",
       "      <td>21,700</td>\n",
       "    </tr>\n",
       "    <tr>\n",
       "      <th>5002836</th>\n",
       "      <td>50130.0</td>\n",
       "      <td>서홍동</td>\n",
       "      <td>2023-07-04 00:00:00</td>\n",
       "      <td>서홍반석타운</td>\n",
       "      <td>2004-1</td>\n",
       "      <td>45.3100</td>\n",
       "      <td>1</td>\n",
       "      <td>2000.0</td>\n",
       "      <td>9,300</td>\n",
       "    </tr>\n",
       "    <tr>\n",
       "      <th>5002837</th>\n",
       "      <td>50130.0</td>\n",
       "      <td>중문동</td>\n",
       "      <td>2023-07-01 00:00:00</td>\n",
       "      <td>중문푸른마을</td>\n",
       "      <td>1789</td>\n",
       "      <td>51.8800</td>\n",
       "      <td>2</td>\n",
       "      <td>2003.0</td>\n",
       "      <td>25,500</td>\n",
       "    </tr>\n",
       "    <tr>\n",
       "      <th>5002838</th>\n",
       "      <td>50130.0</td>\n",
       "      <td>중문동</td>\n",
       "      <td>2023-07-01 00:00:00</td>\n",
       "      <td>e편한세상중문</td>\n",
       "      <td>1726</td>\n",
       "      <td>84.9875</td>\n",
       "      <td>5</td>\n",
       "      <td>2021.0</td>\n",
       "      <td>52,500</td>\n",
       "    </tr>\n",
       "  </tbody>\n",
       "</table>\n",
       "<p>5002839 rows × 9 columns</p>\n",
       "</div>"
      ],
      "text/plain": [
       "            지역코드        동                  거래일         아파트      지번      전용면적  \\\n",
       "0        31110.0      학성동       5/30/2020 0:00      남운학성타운     379  135.5800   \n",
       "1        31110.0      남외동        1/3/2020 0:00    남외푸르지오1차   506-1  101.6000   \n",
       "2        31110.0      남외동        1/3/2020 0:00       에일린의뜰     500   84.9920   \n",
       "3        31110.0      남외동        1/3/2020 0:00    남외푸르지오1차   506-1  118.7060   \n",
       "4        31110.0      남외동        1/4/2020 0:00    남외푸르지오2차   501-1   84.9636   \n",
       "...          ...      ...                  ...         ...     ...       ...   \n",
       "5002834  50130.0  대정읍 하모리  2023-06-29 00:00:00     더그라벨아파트  1221-1   57.1300   \n",
       "5002835  50130.0      동홍동  2023-07-04 00:00:00  주공5차(동홍5차)    1674   49.8700   \n",
       "5002836  50130.0      서홍동  2023-07-04 00:00:00      서홍반석타운  2004-1   45.3100   \n",
       "5002837  50130.0      중문동  2023-07-01 00:00:00      중문푸른마을    1789   51.8800   \n",
       "5002838  50130.0      중문동  2023-07-01 00:00:00     e편한세상중문    1726   84.9875   \n",
       "\n",
       "          층    건축년도    거래금액  \n",
       "0         8  1991.0   26700  \n",
       "1         2  2006.0   35500  \n",
       "2        11  2007.0   36500  \n",
       "3         8  2006.0   43000  \n",
       "4         7  2007.0   38700  \n",
       "...      ..     ...     ...  \n",
       "5002834   6  2019.0  19,500  \n",
       "5002835   2  1999.0  21,700  \n",
       "5002836   1  2000.0   9,300  \n",
       "5002837   2  2003.0  25,500  \n",
       "5002838   5  2021.0  52,500  \n",
       "\n",
       "[5002839 rows x 9 columns]"
      ]
     },
     "execution_count": 2,
     "metadata": {},
     "output_type": "execute_result"
    }
   ],
   "source": [
    "a_df"
   ]
  },
  {
   "cell_type": "code",
   "execution_count": 3,
   "id": "35ef2f34-04f2-4df8-844a-7279be0afeda",
   "metadata": {},
   "outputs": [
    {
     "name": "stdout",
     "output_type": "stream",
     "text": [
      "<class 'pandas.core.frame.DataFrame'>\n",
      "RangeIndex: 5002839 entries, 0 to 5002838\n",
      "Data columns (total 9 columns):\n",
      " #   Column  Dtype  \n",
      "---  ------  -----  \n",
      " 0   지역코드    float64\n",
      " 1   동       object \n",
      " 2   거래일     object \n",
      " 3   아파트     object \n",
      " 4   지번      object \n",
      " 5   전용면적    float64\n",
      " 6   층       object \n",
      " 7   건축년도    float64\n",
      " 8   거래금액    object \n",
      "dtypes: float64(3), object(6)\n",
      "memory usage: 343.5+ MB\n"
     ]
    }
   ],
   "source": [
    "a_df.info()"
   ]
  },
  {
   "cell_type": "code",
   "execution_count": 4,
   "id": "a81e8a9b-ad5a-4888-9923-ba3d68a5e1ca",
   "metadata": {},
   "outputs": [],
   "source": [
    "a_df = a_df[a_df['층'] != ' '].reset_index(drop=True)"
   ]
  },
  {
   "cell_type": "code",
   "execution_count": 5,
   "id": "ccdfe2b8-ee0d-40fe-8bdd-ba022f466c13",
   "metadata": {},
   "outputs": [
    {
     "name": "stdout",
     "output_type": "stream",
     "text": [
      "['8' '2' '11' '7' '5' '10' '9' '13' '22' '12' '4' '20' '15' '3' '6' '1'\n",
      " '14' '-1' '39' '19' '17' '23' '21' '18' '35' '34' '24' '29' '27' '16'\n",
      " '25' '31' '32' '28' '30' '50' '26' '33' '37' '36' '51' '48' '43' '38'\n",
      " '46' '45' '49' '42' '40' '44' '41' '61' '52' '60' '55' '54' '64' '56'\n",
      " '47' '58' '53' '57' '59' '62' '66' '63' '-2' '-3' '65' '68' '67' '69'\n",
      " '75' '74' '71' '73' '70' '72' '77' '76' '79' '80' '83' '81' '-4' '78'\n",
      " '82' '1.0' '9.0' '6.0' '7.0' '10.0' '14.0' '15.0' '4.0' '5.0' '2.0'\n",
      " '12.0' '13.0' '16.0' '3.0' '8.0' '11.0' '17.0' '19.0' '18.0' '22.0'\n",
      " '20.0' '24.0' '21.0' '23.0' '25.0' '27.0' '26.0' '30.0' '29.0' '28.0'\n",
      " '39.0' '35.0' '38.0' '40.0' '32.0' '37.0' '33.0' '31.0' '34.0' '36.0'\n",
      " '41.0' '42.0' '45.0' '44.0' '43.0' '48.0' '47.0' '46.0' '-1.0' '49.0'\n",
      " '50.0']\n"
     ]
    }
   ],
   "source": [
    "print(a_df['층'].unique())"
   ]
  },
  {
   "cell_type": "code",
   "execution_count": 6,
   "id": "d4dd5ebf-5521-4d86-8d89-44532250d592",
   "metadata": {},
   "outputs": [],
   "source": [
    "a_df['층'] = a_df['층'].astype(float)\n",
    "a_df['층'] = a_df['층'].astype(int)"
   ]
  },
  {
   "cell_type": "code",
   "execution_count": 7,
   "id": "1bbfea57-e7ef-4202-a6ed-4ef3725d68c6",
   "metadata": {},
   "outputs": [
    {
     "data": {
      "text/plain": [
       "지역코드      0\n",
       "동         0\n",
       "거래일       0\n",
       "아파트       0\n",
       "지번      438\n",
       "전용면적      0\n",
       "층         0\n",
       "건축년도     76\n",
       "거래금액      0\n",
       "dtype: int64"
      ]
     },
     "execution_count": 7,
     "metadata": {},
     "output_type": "execute_result"
    }
   ],
   "source": [
    "a_df.isna().sum()"
   ]
  },
  {
   "cell_type": "code",
   "execution_count": 8,
   "id": "4c2841ec-9d58-496f-8e78-8a9fd9278510",
   "metadata": {},
   "outputs": [],
   "source": [
    "a_df = a_df.dropna().reset_index(drop=True)"
   ]
  },
  {
   "cell_type": "code",
   "execution_count": 9,
   "id": "c422cf1f-1e67-4692-ba73-9e314eabf633",
   "metadata": {},
   "outputs": [
    {
     "data": {
      "text/plain": [
       "지역코드    0\n",
       "동       0\n",
       "거래일     0\n",
       "아파트     0\n",
       "지번      0\n",
       "전용면적    0\n",
       "층       0\n",
       "건축년도    0\n",
       "거래금액    0\n",
       "dtype: int64"
      ]
     },
     "execution_count": 9,
     "metadata": {},
     "output_type": "execute_result"
    }
   ],
   "source": [
    "a_df.isna().sum()"
   ]
  },
  {
   "cell_type": "code",
   "execution_count": 10,
   "id": "a18e6fd9-8ad3-4377-afca-faef166e5891",
   "metadata": {},
   "outputs": [
    {
     "data": {
      "text/html": [
       "<div>\n",
       "<style scoped>\n",
       "    .dataframe tbody tr th:only-of-type {\n",
       "        vertical-align: middle;\n",
       "    }\n",
       "\n",
       "    .dataframe tbody tr th {\n",
       "        vertical-align: top;\n",
       "    }\n",
       "\n",
       "    .dataframe thead th {\n",
       "        text-align: right;\n",
       "    }\n",
       "</style>\n",
       "<table border=\"1\" class=\"dataframe\">\n",
       "  <thead>\n",
       "    <tr style=\"text-align: right;\">\n",
       "      <th></th>\n",
       "      <th>지역코드</th>\n",
       "      <th>전용면적</th>\n",
       "      <th>층</th>\n",
       "      <th>건축년도</th>\n",
       "      <th>거래금액</th>\n",
       "    </tr>\n",
       "  </thead>\n",
       "  <tbody>\n",
       "    <tr>\n",
       "      <th>0</th>\n",
       "      <td>31110.0</td>\n",
       "      <td>135.5800</td>\n",
       "      <td>8</td>\n",
       "      <td>1991.0</td>\n",
       "      <td>26700</td>\n",
       "    </tr>\n",
       "    <tr>\n",
       "      <th>1</th>\n",
       "      <td>31110.0</td>\n",
       "      <td>101.6000</td>\n",
       "      <td>2</td>\n",
       "      <td>2006.0</td>\n",
       "      <td>35500</td>\n",
       "    </tr>\n",
       "    <tr>\n",
       "      <th>2</th>\n",
       "      <td>31110.0</td>\n",
       "      <td>84.9920</td>\n",
       "      <td>11</td>\n",
       "      <td>2007.0</td>\n",
       "      <td>36500</td>\n",
       "    </tr>\n",
       "    <tr>\n",
       "      <th>3</th>\n",
       "      <td>31110.0</td>\n",
       "      <td>118.7060</td>\n",
       "      <td>8</td>\n",
       "      <td>2006.0</td>\n",
       "      <td>43000</td>\n",
       "    </tr>\n",
       "    <tr>\n",
       "      <th>4</th>\n",
       "      <td>31110.0</td>\n",
       "      <td>84.9636</td>\n",
       "      <td>7</td>\n",
       "      <td>2007.0</td>\n",
       "      <td>38700</td>\n",
       "    </tr>\n",
       "    <tr>\n",
       "      <th>...</th>\n",
       "      <td>...</td>\n",
       "      <td>...</td>\n",
       "      <td>...</td>\n",
       "      <td>...</td>\n",
       "      <td>...</td>\n",
       "    </tr>\n",
       "    <tr>\n",
       "      <th>5002319</th>\n",
       "      <td>50130.0</td>\n",
       "      <td>57.1300</td>\n",
       "      <td>6</td>\n",
       "      <td>2019.0</td>\n",
       "      <td>19,500</td>\n",
       "    </tr>\n",
       "    <tr>\n",
       "      <th>5002320</th>\n",
       "      <td>50130.0</td>\n",
       "      <td>49.8700</td>\n",
       "      <td>2</td>\n",
       "      <td>1999.0</td>\n",
       "      <td>21,700</td>\n",
       "    </tr>\n",
       "    <tr>\n",
       "      <th>5002321</th>\n",
       "      <td>50130.0</td>\n",
       "      <td>45.3100</td>\n",
       "      <td>1</td>\n",
       "      <td>2000.0</td>\n",
       "      <td>9,300</td>\n",
       "    </tr>\n",
       "    <tr>\n",
       "      <th>5002322</th>\n",
       "      <td>50130.0</td>\n",
       "      <td>51.8800</td>\n",
       "      <td>2</td>\n",
       "      <td>2003.0</td>\n",
       "      <td>25,500</td>\n",
       "    </tr>\n",
       "    <tr>\n",
       "      <th>5002323</th>\n",
       "      <td>50130.0</td>\n",
       "      <td>84.9875</td>\n",
       "      <td>5</td>\n",
       "      <td>2021.0</td>\n",
       "      <td>52,500</td>\n",
       "    </tr>\n",
       "  </tbody>\n",
       "</table>\n",
       "<p>5002324 rows × 5 columns</p>\n",
       "</div>"
      ],
      "text/plain": [
       "            지역코드      전용면적   층    건축년도    거래금액\n",
       "0        31110.0  135.5800   8  1991.0   26700\n",
       "1        31110.0  101.6000   2  2006.0   35500\n",
       "2        31110.0   84.9920  11  2007.0   36500\n",
       "3        31110.0  118.7060   8  2006.0   43000\n",
       "4        31110.0   84.9636   7  2007.0   38700\n",
       "...          ...       ...  ..     ...     ...\n",
       "5002319  50130.0   57.1300   6  2019.0  19,500\n",
       "5002320  50130.0   49.8700   2  1999.0  21,700\n",
       "5002321  50130.0   45.3100   1  2000.0   9,300\n",
       "5002322  50130.0   51.8800   2  2003.0  25,500\n",
       "5002323  50130.0   84.9875   5  2021.0  52,500\n",
       "\n",
       "[5002324 rows x 5 columns]"
      ]
     },
     "execution_count": 10,
     "metadata": {},
     "output_type": "execute_result"
    }
   ],
   "source": [
    "columns = ['지역코드','전용면적','층','건축년도','거래금액']\n",
    "\n",
    "pre_a_df = a_df.loc[:, columns]\n",
    "pre_a_df"
   ]
  },
  {
   "cell_type": "code",
   "execution_count": 11,
   "id": "186d9707-f115-4332-a1a7-e9021e912dea",
   "metadata": {},
   "outputs": [
    {
     "data": {
      "text/plain": [
       "지역코드\n",
       "41590.0    112522\n",
       "41360.0     86199\n",
       "41190.0     80877\n",
       "41570.0     67515\n",
       "44133.0     64606\n",
       "            ...  \n",
       "45740.0       286\n",
       "47720.0       260\n",
       "47760.0       134\n",
       "47940.0        36\n",
       "46910.0         9\n",
       "Name: count, Length: 249, dtype: int64"
      ]
     },
     "execution_count": 11,
     "metadata": {},
     "output_type": "execute_result"
    }
   ],
   "source": [
    "pre_a_df['지역코드'].value_counts()"
   ]
  },
  {
   "cell_type": "code",
   "execution_count": 12,
   "id": "43c692a9-9683-45f1-ad81-5014288d982a",
   "metadata": {},
   "outputs": [],
   "source": [
    "import numpy as np\n",
    "\n",
    "pre_a_df['지역코드'] = pre_a_df['지역코드'].astype(int)"
   ]
  },
  {
   "cell_type": "code",
   "execution_count": 13,
   "id": "22e5de6c-9104-4eef-b5cc-b3fe3cd3a873",
   "metadata": {},
   "outputs": [
    {
     "data": {
      "text/html": [
       "<div>\n",
       "<style scoped>\n",
       "    .dataframe tbody tr th:only-of-type {\n",
       "        vertical-align: middle;\n",
       "    }\n",
       "\n",
       "    .dataframe tbody tr th {\n",
       "        vertical-align: top;\n",
       "    }\n",
       "\n",
       "    .dataframe thead th {\n",
       "        text-align: right;\n",
       "    }\n",
       "</style>\n",
       "<table border=\"1\" class=\"dataframe\">\n",
       "  <thead>\n",
       "    <tr style=\"text-align: right;\">\n",
       "      <th></th>\n",
       "      <th>지역코드</th>\n",
       "      <th>전용면적</th>\n",
       "      <th>층</th>\n",
       "      <th>건축년도</th>\n",
       "      <th>거래금액</th>\n",
       "    </tr>\n",
       "  </thead>\n",
       "  <tbody>\n",
       "    <tr>\n",
       "      <th>0</th>\n",
       "      <td>31110</td>\n",
       "      <td>135.5800</td>\n",
       "      <td>8</td>\n",
       "      <td>1991.0</td>\n",
       "      <td>26700</td>\n",
       "    </tr>\n",
       "    <tr>\n",
       "      <th>1</th>\n",
       "      <td>31110</td>\n",
       "      <td>101.6000</td>\n",
       "      <td>2</td>\n",
       "      <td>2006.0</td>\n",
       "      <td>35500</td>\n",
       "    </tr>\n",
       "    <tr>\n",
       "      <th>2</th>\n",
       "      <td>31110</td>\n",
       "      <td>84.9920</td>\n",
       "      <td>11</td>\n",
       "      <td>2007.0</td>\n",
       "      <td>36500</td>\n",
       "    </tr>\n",
       "    <tr>\n",
       "      <th>3</th>\n",
       "      <td>31110</td>\n",
       "      <td>118.7060</td>\n",
       "      <td>8</td>\n",
       "      <td>2006.0</td>\n",
       "      <td>43000</td>\n",
       "    </tr>\n",
       "    <tr>\n",
       "      <th>4</th>\n",
       "      <td>31110</td>\n",
       "      <td>84.9636</td>\n",
       "      <td>7</td>\n",
       "      <td>2007.0</td>\n",
       "      <td>38700</td>\n",
       "    </tr>\n",
       "    <tr>\n",
       "      <th>...</th>\n",
       "      <td>...</td>\n",
       "      <td>...</td>\n",
       "      <td>...</td>\n",
       "      <td>...</td>\n",
       "      <td>...</td>\n",
       "    </tr>\n",
       "    <tr>\n",
       "      <th>5002319</th>\n",
       "      <td>50130</td>\n",
       "      <td>57.1300</td>\n",
       "      <td>6</td>\n",
       "      <td>2019.0</td>\n",
       "      <td>19,500</td>\n",
       "    </tr>\n",
       "    <tr>\n",
       "      <th>5002320</th>\n",
       "      <td>50130</td>\n",
       "      <td>49.8700</td>\n",
       "      <td>2</td>\n",
       "      <td>1999.0</td>\n",
       "      <td>21,700</td>\n",
       "    </tr>\n",
       "    <tr>\n",
       "      <th>5002321</th>\n",
       "      <td>50130</td>\n",
       "      <td>45.3100</td>\n",
       "      <td>1</td>\n",
       "      <td>2000.0</td>\n",
       "      <td>9,300</td>\n",
       "    </tr>\n",
       "    <tr>\n",
       "      <th>5002322</th>\n",
       "      <td>50130</td>\n",
       "      <td>51.8800</td>\n",
       "      <td>2</td>\n",
       "      <td>2003.0</td>\n",
       "      <td>25,500</td>\n",
       "    </tr>\n",
       "    <tr>\n",
       "      <th>5002323</th>\n",
       "      <td>50130</td>\n",
       "      <td>84.9875</td>\n",
       "      <td>5</td>\n",
       "      <td>2021.0</td>\n",
       "      <td>52,500</td>\n",
       "    </tr>\n",
       "  </tbody>\n",
       "</table>\n",
       "<p>5002324 rows × 5 columns</p>\n",
       "</div>"
      ],
      "text/plain": [
       "          지역코드      전용면적   층    건축년도    거래금액\n",
       "0        31110  135.5800   8  1991.0   26700\n",
       "1        31110  101.6000   2  2006.0   35500\n",
       "2        31110   84.9920  11  2007.0   36500\n",
       "3        31110  118.7060   8  2006.0   43000\n",
       "4        31110   84.9636   7  2007.0   38700\n",
       "...        ...       ...  ..     ...     ...\n",
       "5002319  50130   57.1300   6  2019.0  19,500\n",
       "5002320  50130   49.8700   2  1999.0  21,700\n",
       "5002321  50130   45.3100   1  2000.0   9,300\n",
       "5002322  50130   51.8800   2  2003.0  25,500\n",
       "5002323  50130   84.9875   5  2021.0  52,500\n",
       "\n",
       "[5002324 rows x 5 columns]"
      ]
     },
     "execution_count": 13,
     "metadata": {},
     "output_type": "execute_result"
    }
   ],
   "source": [
    "pre_a_df"
   ]
  },
  {
   "cell_type": "code",
   "execution_count": 14,
   "id": "802e7744-b2ba-492e-b880-22dd83178149",
   "metadata": {},
   "outputs": [],
   "source": [
    "pre_a_df['건축년도'] = pre_a_df['건축년도'].astype(int)"
   ]
  },
  {
   "cell_type": "code",
   "execution_count": 15,
   "id": "5b27bb47-6dda-4a30-8e80-3651e13d3041",
   "metadata": {},
   "outputs": [
    {
     "data": {
      "text/html": [
       "<div>\n",
       "<style scoped>\n",
       "    .dataframe tbody tr th:only-of-type {\n",
       "        vertical-align: middle;\n",
       "    }\n",
       "\n",
       "    .dataframe tbody tr th {\n",
       "        vertical-align: top;\n",
       "    }\n",
       "\n",
       "    .dataframe thead th {\n",
       "        text-align: right;\n",
       "    }\n",
       "</style>\n",
       "<table border=\"1\" class=\"dataframe\">\n",
       "  <thead>\n",
       "    <tr style=\"text-align: right;\">\n",
       "      <th></th>\n",
       "      <th>지역코드</th>\n",
       "      <th>전용면적</th>\n",
       "      <th>층</th>\n",
       "      <th>건축년도</th>\n",
       "      <th>거래금액</th>\n",
       "    </tr>\n",
       "  </thead>\n",
       "  <tbody>\n",
       "    <tr>\n",
       "      <th>0</th>\n",
       "      <td>31110</td>\n",
       "      <td>135.5800</td>\n",
       "      <td>8</td>\n",
       "      <td>1991</td>\n",
       "      <td>26700</td>\n",
       "    </tr>\n",
       "    <tr>\n",
       "      <th>1</th>\n",
       "      <td>31110</td>\n",
       "      <td>101.6000</td>\n",
       "      <td>2</td>\n",
       "      <td>2006</td>\n",
       "      <td>35500</td>\n",
       "    </tr>\n",
       "    <tr>\n",
       "      <th>2</th>\n",
       "      <td>31110</td>\n",
       "      <td>84.9920</td>\n",
       "      <td>11</td>\n",
       "      <td>2007</td>\n",
       "      <td>36500</td>\n",
       "    </tr>\n",
       "    <tr>\n",
       "      <th>3</th>\n",
       "      <td>31110</td>\n",
       "      <td>118.7060</td>\n",
       "      <td>8</td>\n",
       "      <td>2006</td>\n",
       "      <td>43000</td>\n",
       "    </tr>\n",
       "    <tr>\n",
       "      <th>4</th>\n",
       "      <td>31110</td>\n",
       "      <td>84.9636</td>\n",
       "      <td>7</td>\n",
       "      <td>2007</td>\n",
       "      <td>38700</td>\n",
       "    </tr>\n",
       "    <tr>\n",
       "      <th>...</th>\n",
       "      <td>...</td>\n",
       "      <td>...</td>\n",
       "      <td>...</td>\n",
       "      <td>...</td>\n",
       "      <td>...</td>\n",
       "    </tr>\n",
       "    <tr>\n",
       "      <th>5002319</th>\n",
       "      <td>50130</td>\n",
       "      <td>57.1300</td>\n",
       "      <td>6</td>\n",
       "      <td>2019</td>\n",
       "      <td>19,500</td>\n",
       "    </tr>\n",
       "    <tr>\n",
       "      <th>5002320</th>\n",
       "      <td>50130</td>\n",
       "      <td>49.8700</td>\n",
       "      <td>2</td>\n",
       "      <td>1999</td>\n",
       "      <td>21,700</td>\n",
       "    </tr>\n",
       "    <tr>\n",
       "      <th>5002321</th>\n",
       "      <td>50130</td>\n",
       "      <td>45.3100</td>\n",
       "      <td>1</td>\n",
       "      <td>2000</td>\n",
       "      <td>9,300</td>\n",
       "    </tr>\n",
       "    <tr>\n",
       "      <th>5002322</th>\n",
       "      <td>50130</td>\n",
       "      <td>51.8800</td>\n",
       "      <td>2</td>\n",
       "      <td>2003</td>\n",
       "      <td>25,500</td>\n",
       "    </tr>\n",
       "    <tr>\n",
       "      <th>5002323</th>\n",
       "      <td>50130</td>\n",
       "      <td>84.9875</td>\n",
       "      <td>5</td>\n",
       "      <td>2021</td>\n",
       "      <td>52,500</td>\n",
       "    </tr>\n",
       "  </tbody>\n",
       "</table>\n",
       "<p>5002324 rows × 5 columns</p>\n",
       "</div>"
      ],
      "text/plain": [
       "          지역코드      전용면적   층  건축년도    거래금액\n",
       "0        31110  135.5800   8  1991   26700\n",
       "1        31110  101.6000   2  2006   35500\n",
       "2        31110   84.9920  11  2007   36500\n",
       "3        31110  118.7060   8  2006   43000\n",
       "4        31110   84.9636   7  2007   38700\n",
       "...        ...       ...  ..   ...     ...\n",
       "5002319  50130   57.1300   6  2019  19,500\n",
       "5002320  50130   49.8700   2  1999  21,700\n",
       "5002321  50130   45.3100   1  2000   9,300\n",
       "5002322  50130   51.8800   2  2003  25,500\n",
       "5002323  50130   84.9875   5  2021  52,500\n",
       "\n",
       "[5002324 rows x 5 columns]"
      ]
     },
     "execution_count": 15,
     "metadata": {},
     "output_type": "execute_result"
    }
   ],
   "source": [
    "pre_a_df"
   ]
  },
  {
   "cell_type": "code",
   "execution_count": 16,
   "id": "47020ebe-c07b-47cc-88c6-62a320fb9c3f",
   "metadata": {},
   "outputs": [],
   "source": [
    "pre_a_df['거래금액'] = pre_a_df['거래금액'].str.replace(\",\", \"\")"
   ]
  },
  {
   "cell_type": "code",
   "execution_count": 17,
   "id": "c6a62a9d-458f-4453-8839-c8df93ffead1",
   "metadata": {},
   "outputs": [
    {
     "data": {
      "text/plain": [
       "전용면적    0.478979\n",
       "층       0.194059\n",
       "건축년도    0.189913\n",
       "지역코드   -0.434602\n",
       "Name: 거래금액, dtype: float64"
      ]
     },
     "execution_count": 17,
     "metadata": {},
     "output_type": "execute_result"
    }
   ],
   "source": [
    "pre_a_df.corr()['거래금액'].sort_values(ascending=False)[1:]"
   ]
  },
  {
   "cell_type": "code",
   "execution_count": 18,
   "id": "51bcadee-c909-464a-a9e5-89596513ffbe",
   "metadata": {},
   "outputs": [],
   "source": [
    "pre_a_df['거래금액'] = pre_a_df['거래금액'].astype(float)"
   ]
  },
  {
   "cell_type": "code",
   "execution_count": 19,
   "id": "ed8b65b7-8082-4ea2-a9f9-3daee0343bb9",
   "metadata": {},
   "outputs": [
    {
     "data": {
      "text/plain": [
       "array([[<Axes: title={'center': '지역코드'}>,\n",
       "        <Axes: title={'center': '전용면적'}>],\n",
       "       [<Axes: title={'center': '층'}>, <Axes: title={'center': '건축년도'}>],\n",
       "       [<Axes: title={'center': '거래금액'}>, <Axes: >]], dtype=object)"
      ]
     },
     "execution_count": 19,
     "metadata": {},
     "output_type": "execute_result"
    },
    {
     "data": {
      "image/png": "[encoded data removed]",
      "text/plain": [
       "<Figure size 1000x1000 with 6 Axes>"
      ]
     },
     "metadata": {},
     "output_type": "display_data"
    }
   ],
   "source": [
    "import matplotlib.pyplot as plt\n",
    "\n",
    "plt.rcParams['font.family'] = 'Malgun Gothic'\n",
    "pre_a_df.hist(figsize=(10,10))"
   ]
  },
  {
   "cell_type": "code",
   "execution_count": 20,
   "id": "d43b85e1-d64f-4905-96c7-a90a89ac61c4",
   "metadata": {},
   "outputs": [],
   "source": [
    "pre_a_df['거래금액'] = np.log1p(pre_a_df['거래금액'])"
   ]
  },
  {
   "cell_type": "code",
   "execution_count": 21,
   "id": "439e69fe-015e-494d-a958-49bb894a2a51",
   "metadata": {},
   "outputs": [
    {
     "name": "stdout",
     "output_type": "stream",
     "text": [
      "                                 OLS Regression Results                                \n",
      "=======================================================================================\n",
      "Dep. Variable:                   거래금액   R-squared (uncentered):                   0.997\n",
      "Model:                            OLS   Adj. R-squared (uncentered):              0.997\n",
      "Method:                 Least Squares   F-statistic:                          4.902e+08\n",
      "Date:                Sun, 28 Apr 2024   Prob (F-statistic):                        0.00\n",
      "Time:                        15:24:12   Log-Likelihood:                     -3.7193e+06\n",
      "No. Observations:             5002324   AIC:                                  7.439e+06\n",
      "Df Residuals:                 5002320   BIC:                                  7.439e+06\n",
      "Df Model:                           4                                                  \n",
      "Covariance Type:            nonrobust                                                  \n",
      "==============================================================================\n",
      "                 coef    std err          t      P>|t|      [0.025      0.975]\n",
      "------------------------------------------------------------------------------\n",
      "지역코드       -2.765e-05      2e-08  -1385.150      0.000   -2.77e-05   -2.76e-05\n",
      "전용면적           0.0149   8.87e-06   1678.081      0.000       0.015       0.015\n",
      "층              0.0166   3.66e-05    453.163      0.000       0.017       0.017\n",
      "건축년도           0.0049   5.28e-07   9254.332      0.000       0.005       0.005\n",
      "==============================================================================\n",
      "Omnibus:                    57573.738   Durbin-Watson:                   0.564\n",
      "Prob(Omnibus):                  0.000   Jarque-Bera (JB):            71155.128\n",
      "Skew:                           0.191   Prob(JB):                         0.00\n",
      "Kurtosis:                       3.441   Cond. No.                     6.03e+03\n",
      "==============================================================================\n",
      "\n",
      "Notes:\n",
      "[1] R² is computed without centering (uncentered) since the model does not contain a constant.\n",
      "[2] Standard Errors assume that the covariance matrix of the errors is correctly specified.\n",
      "[3] The condition number is large, 6.03e+03. This might indicate that there are\n",
      "strong multicollinearity or other numerical problems.\n"
     ]
    }
   ],
   "source": [
    "from statsmodels.api import OLS\n",
    "\n",
    "features, targets = pre_a_df.iloc[:, :-1], pre_a_df.iloc[:, -1]\n",
    "\n",
    "model = OLS(targets, features)\n",
    "print(model.fit().summary())"
   ]
  },
  {
   "cell_type": "code",
   "execution_count": 22,
   "id": "b5787b3d-74e0-4b35-8a76-9c8e68a7ea09",
   "metadata": {},
   "outputs": [],
   "source": [
    "from statsmodels.stats.outliers_influence import variance_inflation_factor\n",
    "\n",
    "def get_vif(features):\n",
    "    vif = pd.DataFrame()\n",
    "    vif['vif_score'] = [variance_inflation_factor(features.values, i) for i in range(features.shape[1])]\n",
    "    vif['feature'] = features.columns\n",
    "    return vif"
   ]
  },
  {
   "cell_type": "code",
   "execution_count": 23,
   "id": "b7ceadd5-7a53-4a1a-b22a-e8ed325abe22",
   "metadata": {},
   "outputs": [
    {
     "data": {
      "text/html": [
       "<div>\n",
       "<style scoped>\n",
       "    .dataframe tbody tr th:only-of-type {\n",
       "        vertical-align: middle;\n",
       "    }\n",
       "\n",
       "    .dataframe tbody tr th {\n",
       "        vertical-align: top;\n",
       "    }\n",
       "\n",
       "    .dataframe thead th {\n",
       "        text-align: right;\n",
       "    }\n",
       "</style>\n",
       "<table border=\"1\" class=\"dataframe\">\n",
       "  <thead>\n",
       "    <tr style=\"text-align: right;\">\n",
       "      <th></th>\n",
       "      <th>vif_score</th>\n",
       "      <th>feature</th>\n",
       "    </tr>\n",
       "  </thead>\n",
       "  <tbody>\n",
       "    <tr>\n",
       "      <th>0</th>\n",
       "      <td>10.773557</td>\n",
       "      <td>지역코드</td>\n",
       "    </tr>\n",
       "    <tr>\n",
       "      <th>1</th>\n",
       "      <td>9.665633</td>\n",
       "      <td>전용면적</td>\n",
       "    </tr>\n",
       "    <tr>\n",
       "      <th>2</th>\n",
       "      <td>3.195887</td>\n",
       "      <td>층</td>\n",
       "    </tr>\n",
       "    <tr>\n",
       "      <th>3</th>\n",
       "      <td>21.537643</td>\n",
       "      <td>건축년도</td>\n",
       "    </tr>\n",
       "  </tbody>\n",
       "</table>\n",
       "</div>"
      ],
      "text/plain": [
       "   vif_score feature\n",
       "0  10.773557    지역코드\n",
       "1   9.665633    전용면적\n",
       "2   3.195887       층\n",
       "3  21.537643    건축년도"
      ]
     },
     "execution_count": 23,
     "metadata": {},
     "output_type": "execute_result"
    }
   ],
   "source": [
    "get_vif(features)"
   ]
  },
  {
   "cell_type": "code",
   "execution_count": 24,
   "id": "d14116f4-76e4-45e8-a69d-a42af35ef0d3",
   "metadata": {},
   "outputs": [
    {
     "name": "stdout",
     "output_type": "stream",
     "text": [
      "                                 OLS Regression Results                                \n",
      "=======================================================================================\n",
      "Dep. Variable:                   거래금액   R-squared (uncentered):                   0.954\n",
      "Model:                            OLS   Adj. R-squared (uncentered):              0.954\n",
      "Method:                 Least Squares   F-statistic:                          3.450e+07\n",
      "Date:                Sun, 28 Apr 2024   Prob (F-statistic):                        0.00\n",
      "Time:                        15:24:16   Log-Likelihood:                     -1.0965e+07\n",
      "No. Observations:             5002324   AIC:                                  2.193e+07\n",
      "Df Residuals:                 5002321   BIC:                                  2.193e+07\n",
      "Df Model:                           3                                                  \n",
      "Covariance Type:            nonrobust                                                  \n",
      "==============================================================================\n",
      "                 coef    std err          t      P>|t|      [0.025      0.975]\n",
      "------------------------------------------------------------------------------\n",
      "지역코드           0.0001   5.91e-08   1776.961      0.000       0.000       0.000\n",
      "전용면적           0.0660   2.96e-05   2230.197      0.000       0.066       0.066\n",
      "층              0.0976      0.000    645.206      0.000       0.097       0.098\n",
      "==============================================================================\n",
      "Omnibus:                    91960.254   Durbin-Watson:                   0.807\n",
      "Prob(Omnibus):                  0.000   Jarque-Bera (JB):           175443.774\n",
      "Skew:                           0.110   Prob(JB):                         0.00\n",
      "Kurtosis:                       3.891   Cond. No.                     5.86e+03\n",
      "==============================================================================\n",
      "\n",
      "Notes:\n",
      "[1] R² is computed without centering (uncentered) since the model does not contain a constant.\n",
      "[2] Standard Errors assume that the covariance matrix of the errors is correctly specified.\n",
      "[3] The condition number is large, 5.86e+03. This might indicate that there are\n",
      "strong multicollinearity or other numerical problems.\n"
     ]
    }
   ],
   "source": [
    "from statsmodels.api import OLS\n",
    "\n",
    "features, targets = pre_a_df.iloc[:, :-2], pre_a_df.iloc[:, -1]\n",
    "\n",
    "model = OLS(targets, features)\n",
    "print(model.fit().summary())"
   ]
  },
  {
   "cell_type": "code",
   "execution_count": 25,
   "id": "8330ae0a-0dac-416d-81b1-7a99727a3b3c",
   "metadata": {},
   "outputs": [
    {
     "data": {
      "text/html": [
       "<div>\n",
       "<style scoped>\n",
       "    .dataframe tbody tr th:only-of-type {\n",
       "        vertical-align: middle;\n",
       "    }\n",
       "\n",
       "    .dataframe tbody tr th {\n",
       "        vertical-align: top;\n",
       "    }\n",
       "\n",
       "    .dataframe thead th {\n",
       "        text-align: right;\n",
       "    }\n",
       "</style>\n",
       "<table border=\"1\" class=\"dataframe\">\n",
       "  <thead>\n",
       "    <tr style=\"text-align: right;\">\n",
       "      <th></th>\n",
       "      <th>vif_score</th>\n",
       "      <th>feature</th>\n",
       "    </tr>\n",
       "  </thead>\n",
       "  <tbody>\n",
       "    <tr>\n",
       "      <th>0</th>\n",
       "      <td>5.214487</td>\n",
       "      <td>지역코드</td>\n",
       "    </tr>\n",
       "    <tr>\n",
       "      <th>1</th>\n",
       "      <td>5.926620</td>\n",
       "      <td>전용면적</td>\n",
       "    </tr>\n",
       "    <tr>\n",
       "      <th>2</th>\n",
       "      <td>3.013029</td>\n",
       "      <td>층</td>\n",
       "    </tr>\n",
       "  </tbody>\n",
       "</table>\n",
       "</div>"
      ],
      "text/plain": [
       "   vif_score feature\n",
       "0   5.214487    지역코드\n",
       "1   5.926620    전용면적\n",
       "2   3.013029       층"
      ]
     },
     "execution_count": 25,
     "metadata": {},
     "output_type": "execute_result"
    }
   ],
   "source": [
    "get_vif(features)"
   ]
  },
  {
   "cell_type": "code",
   "execution_count": 26,
   "id": "cca87a9d-819b-4405-9177-43f5151e98cb",
   "metadata": {},
   "outputs": [],
   "source": [
    "columns = ['동','아파트','지역코드',\t'전용면적',\t'층',\t'건축년도',\t'거래금액'] \n",
    "\n",
    "en_a_df = a_df.iloc[pre_a_df.index].loc[:, columns].reset_index(drop=True)"
   ]
  },
  {
   "cell_type": "code",
   "execution_count": 27,
   "id": "18cb5ef4-b291-4c77-b7c1-26c6979a36ba",
   "metadata": {},
   "outputs": [
    {
     "data": {
      "text/html": [
       "<div>\n",
       "<style scoped>\n",
       "    .dataframe tbody tr th:only-of-type {\n",
       "        vertical-align: middle;\n",
       "    }\n",
       "\n",
       "    .dataframe tbody tr th {\n",
       "        vertical-align: top;\n",
       "    }\n",
       "\n",
       "    .dataframe thead th {\n",
       "        text-align: right;\n",
       "    }\n",
       "</style>\n",
       "<table border=\"1\" class=\"dataframe\">\n",
       "  <thead>\n",
       "    <tr style=\"text-align: right;\">\n",
       "      <th></th>\n",
       "      <th>동</th>\n",
       "      <th>아파트</th>\n",
       "      <th>지역코드</th>\n",
       "      <th>전용면적</th>\n",
       "      <th>층</th>\n",
       "      <th>건축년도</th>\n",
       "      <th>거래금액</th>\n",
       "    </tr>\n",
       "  </thead>\n",
       "  <tbody>\n",
       "    <tr>\n",
       "      <th>0</th>\n",
       "      <td>학성동</td>\n",
       "      <td>남운학성타운</td>\n",
       "      <td>31110.0</td>\n",
       "      <td>135.5800</td>\n",
       "      <td>8</td>\n",
       "      <td>1991.0</td>\n",
       "      <td>26700</td>\n",
       "    </tr>\n",
       "    <tr>\n",
       "      <th>1</th>\n",
       "      <td>남외동</td>\n",
       "      <td>남외푸르지오1차</td>\n",
       "      <td>31110.0</td>\n",
       "      <td>101.6000</td>\n",
       "      <td>2</td>\n",
       "      <td>2006.0</td>\n",
       "      <td>35500</td>\n",
       "    </tr>\n",
       "    <tr>\n",
       "      <th>2</th>\n",
       "      <td>남외동</td>\n",
       "      <td>에일린의뜰</td>\n",
       "      <td>31110.0</td>\n",
       "      <td>84.9920</td>\n",
       "      <td>11</td>\n",
       "      <td>2007.0</td>\n",
       "      <td>36500</td>\n",
       "    </tr>\n",
       "    <tr>\n",
       "      <th>3</th>\n",
       "      <td>남외동</td>\n",
       "      <td>남외푸르지오1차</td>\n",
       "      <td>31110.0</td>\n",
       "      <td>118.7060</td>\n",
       "      <td>8</td>\n",
       "      <td>2006.0</td>\n",
       "      <td>43000</td>\n",
       "    </tr>\n",
       "    <tr>\n",
       "      <th>4</th>\n",
       "      <td>남외동</td>\n",
       "      <td>남외푸르지오2차</td>\n",
       "      <td>31110.0</td>\n",
       "      <td>84.9636</td>\n",
       "      <td>7</td>\n",
       "      <td>2007.0</td>\n",
       "      <td>38700</td>\n",
       "    </tr>\n",
       "    <tr>\n",
       "      <th>...</th>\n",
       "      <td>...</td>\n",
       "      <td>...</td>\n",
       "      <td>...</td>\n",
       "      <td>...</td>\n",
       "      <td>...</td>\n",
       "      <td>...</td>\n",
       "      <td>...</td>\n",
       "    </tr>\n",
       "    <tr>\n",
       "      <th>5002319</th>\n",
       "      <td>대정읍 하모리</td>\n",
       "      <td>더그라벨아파트</td>\n",
       "      <td>50130.0</td>\n",
       "      <td>57.1300</td>\n",
       "      <td>6</td>\n",
       "      <td>2019.0</td>\n",
       "      <td>19,500</td>\n",
       "    </tr>\n",
       "    <tr>\n",
       "      <th>5002320</th>\n",
       "      <td>동홍동</td>\n",
       "      <td>주공5차(동홍5차)</td>\n",
       "      <td>50130.0</td>\n",
       "      <td>49.8700</td>\n",
       "      <td>2</td>\n",
       "      <td>1999.0</td>\n",
       "      <td>21,700</td>\n",
       "    </tr>\n",
       "    <tr>\n",
       "      <th>5002321</th>\n",
       "      <td>서홍동</td>\n",
       "      <td>서홍반석타운</td>\n",
       "      <td>50130.0</td>\n",
       "      <td>45.3100</td>\n",
       "      <td>1</td>\n",
       "      <td>2000.0</td>\n",
       "      <td>9,300</td>\n",
       "    </tr>\n",
       "    <tr>\n",
       "      <th>5002322</th>\n",
       "      <td>중문동</td>\n",
       "      <td>중문푸른마을</td>\n",
       "      <td>50130.0</td>\n",
       "      <td>51.8800</td>\n",
       "      <td>2</td>\n",
       "      <td>2003.0</td>\n",
       "      <td>25,500</td>\n",
       "    </tr>\n",
       "    <tr>\n",
       "      <th>5002323</th>\n",
       "      <td>중문동</td>\n",
       "      <td>e편한세상중문</td>\n",
       "      <td>50130.0</td>\n",
       "      <td>84.9875</td>\n",
       "      <td>5</td>\n",
       "      <td>2021.0</td>\n",
       "      <td>52,500</td>\n",
       "    </tr>\n",
       "  </tbody>\n",
       "</table>\n",
       "<p>5002324 rows × 7 columns</p>\n",
       "</div>"
      ],
      "text/plain": [
       "               동         아파트     지역코드      전용면적   층    건축년도    거래금액\n",
       "0            학성동      남운학성타운  31110.0  135.5800   8  1991.0   26700\n",
       "1            남외동    남외푸르지오1차  31110.0  101.6000   2  2006.0   35500\n",
       "2            남외동       에일린의뜰  31110.0   84.9920  11  2007.0   36500\n",
       "3            남외동    남외푸르지오1차  31110.0  118.7060   8  2006.0   43000\n",
       "4            남외동    남외푸르지오2차  31110.0   84.9636   7  2007.0   38700\n",
       "...          ...         ...      ...       ...  ..     ...     ...\n",
       "5002319  대정읍 하모리     더그라벨아파트  50130.0   57.1300   6  2019.0  19,500\n",
       "5002320      동홍동  주공5차(동홍5차)  50130.0   49.8700   2  1999.0  21,700\n",
       "5002321      서홍동      서홍반석타운  50130.0   45.3100   1  2000.0   9,300\n",
       "5002322      중문동      중문푸른마을  50130.0   51.8800   2  2003.0  25,500\n",
       "5002323      중문동     e편한세상중문  50130.0   84.9875   5  2021.0  52,500\n",
       "\n",
       "[5002324 rows x 7 columns]"
      ]
     },
     "execution_count": 27,
     "metadata": {},
     "output_type": "execute_result"
    }
   ],
   "source": [
    "en_a_df"
   ]
  },
  {
   "cell_type": "code",
   "execution_count": 28,
   "id": "2cfc94f8-408b-40be-9ad3-106288e660cd",
   "metadata": {},
   "outputs": [
    {
     "name": "stdout",
     "output_type": "stream",
     "text": [
      "['남운학성타운' '남외푸르지오1차' '에일린의뜰' ... '서귀포혁신사랑으로부영아파트' '캐슬휘닉스더퍼스트' '중문스마트빌']\n"
     ]
    }
   ],
   "source": [
    "print(en_a_df['아파트'].unique())"
   ]
  },
  {
   "cell_type": "code",
   "execution_count": 29,
   "id": "e8bb7a2c-22c4-4eb5-8cfe-900886595077",
   "metadata": {},
   "outputs": [],
   "source": [
    "en_a_df['아파트'] = en_a_df['아파트'].apply(lambda x: x.split('(')[0].strip())"
   ]
  },
  {
   "cell_type": "code",
   "execution_count": 30,
   "id": "40e7a7ed-decf-45ef-a067-6db37f22931f",
   "metadata": {},
   "outputs": [],
   "source": [
    "# '아파트' 열에서 문자열이 아닌 값을 NaN으로 대체합니다.\n",
    "en_a_df.loc[~en_a_df['아파트'].str.isalpha(), '아파트'] = np.nan\n",
    "\n",
    "# NaN 값이 있는 행을 삭제합니다.\n",
    "en_a_df.dropna(subset=['아파트'], inplace=True)\n"
   ]
  },
  {
   "cell_type": "code",
   "execution_count": 31,
   "id": "a73b64db-913a-4990-aea1-3049b407f1f2",
   "metadata": {},
   "outputs": [
    {
     "name": "stdout",
     "output_type": "stream",
     "text": [
      "['남운학성타운' '에일린의뜰' '백합' ... '서귀포혁신사랑으로부영아파트' '캐슬휘닉스더퍼스트' '중문스마트빌']\n"
     ]
    }
   ],
   "source": [
    "print(en_a_df['아파트'].unique())"
   ]
  },
  {
   "cell_type": "code",
   "execution_count": 32,
   "id": "b00ce6f7-8148-4a4e-afe0-fed1b422d216",
   "metadata": {},
   "outputs": [],
   "source": [
    "en_a_df = en_a_df[en_a_df['아파트'] != ''].reset_index(drop=True)"
   ]
  },
  {
   "cell_type": "code",
   "execution_count": 33,
   "id": "458291dc-7526-4342-a647-d61c6944ff47",
   "metadata": {},
   "outputs": [
    {
     "name": "stdout",
     "output_type": "stream",
     "text": [
      "['학성동' '남외동' '다운동' ... '금성면 갈사리' '한림읍 수원리' '법환동']\n"
     ]
    }
   ],
   "source": [
    "print(en_a_df['동'].unique())"
   ]
  },
  {
   "cell_type": "code",
   "execution_count": 34,
   "id": "88b436bb-0e45-4938-8153-210a2435919a",
   "metadata": {},
   "outputs": [
    {
     "data": {
      "text/plain": [
       "{'동': array(['가경동', '가곡동', '가남읍 신해리', ..., '흥해읍 초곡리', '흥해읍 학성리', '흥해읍 학천리'],\n",
       "       dtype=object),\n",
       " '아파트': array(['AK휴엘아파트', 'AK휴웰아파트', 'ALTOHAUS', ..., '힐팰리스', '힐포레아파트', '힐하우스'],\n",
       "       dtype=object)}"
      ]
     },
     "execution_count": 34,
     "metadata": {},
     "output_type": "execute_result"
    }
   ],
   "source": [
    "from sklearn.preprocessing import LabelEncoder\n",
    "import numpy as np\n",
    "\n",
    "columns = ['동','아파트']\n",
    "\n",
    "label_encoders = {}\n",
    "\n",
    "for column in columns:\n",
    "    encoder = LabelEncoder()\n",
    "    result = encoder.fit_transform(en_a_df[column])\n",
    "    label_encoders[column] = encoder.classes_\n",
    "    en_a_df[column] = result\n",
    "\n",
    "label_encoders"
   ]
  },
  {
   "cell_type": "code",
   "execution_count": 35,
   "id": "642cbdc0-9226-4f60-8408-82e9612b52a7",
   "metadata": {},
   "outputs": [],
   "source": [
    "en_a_df['거래금액'] = en_a_df['거래금액'].str.replace(\",\", \"\")"
   ]
  },
  {
   "cell_type": "code",
   "execution_count": 36,
   "id": "fc977709-c16a-4550-a818-5ae5125d16ce",
   "metadata": {},
   "outputs": [],
   "source": [
    "en_a_df['거래금액'] = en_a_df['거래금액'].astype(float)"
   ]
  },
  {
   "cell_type": "code",
   "execution_count": 37,
   "id": "0c38bfab-c0a6-484e-8153-10b9aeef9661",
   "metadata": {},
   "outputs": [
    {
     "data": {
      "text/plain": [
       "array([[<Axes: title={'center': '동'}>, <Axes: title={'center': '아파트'}>,\n",
       "        <Axes: title={'center': '지역코드'}>],\n",
       "       [<Axes: title={'center': '전용면적'}>, <Axes: title={'center': '층'}>,\n",
       "        <Axes: title={'center': '건축년도'}>],\n",
       "       [<Axes: title={'center': '거래금액'}>, <Axes: >, <Axes: >]],\n",
       "      dtype=object)"
      ]
     },
     "execution_count": 37,
     "metadata": {},
     "output_type": "execute_result"
    },
    {
     "data": {
      "image/png": "[encoded data removed]",
      "text/plain": [
       "<Figure size 1000x1000 with 9 Axes>"
      ]
     },
     "metadata": {},
     "output_type": "display_data"
    }
   ],
   "source": [
    "import matplotlib.pyplot as plt\n",
    "\n",
    "plt.rcParams['font.family'] = 'Malgun Gothic'\n",
    "en_a_df.hist(figsize=(10,10))"
   ]
  },
  {
   "cell_type": "code",
   "execution_count": 38,
   "id": "c06c65c4-1209-4205-abdb-51a0f63d09d3",
   "metadata": {},
   "outputs": [],
   "source": [
    "en_a_df['거래금액'] = np.log1p(en_a_df['거래금액'])"
   ]
  },
  {
   "cell_type": "code",
   "execution_count": 39,
   "id": "ee906964-be1f-4ab4-b698-66df0c63bd7d",
   "metadata": {},
   "outputs": [],
   "source": [
    "en_a_df['전용면적'] = np.log1p(en_a_df['전용면적'])"
   ]
  },
  {
   "cell_type": "code",
   "execution_count": 40,
   "id": "f6c74731-5f1d-440a-b074-d050061d6c82",
   "metadata": {},
   "outputs": [
    {
     "data": {
      "text/plain": [
       "array([[<Axes: title={'center': '동'}>, <Axes: title={'center': '아파트'}>,\n",
       "        <Axes: title={'center': '지역코드'}>],\n",
       "       [<Axes: title={'center': '전용면적'}>, <Axes: title={'center': '층'}>,\n",
       "        <Axes: title={'center': '건축년도'}>],\n",
       "       [<Axes: title={'center': '거래금액'}>, <Axes: >, <Axes: >]],\n",
       "      dtype=object)"
      ]
     },
     "execution_count": 40,
     "metadata": {},
     "output_type": "execute_result"
    },
    {
     "data": {
      "image/png": "[encoded data removed]",
      "text/plain": [
       "<Figure size 640x480 with 9 Axes>"
      ]
     },
     "metadata": {},
     "output_type": "display_data"
    }
   ],
   "source": [
    "en_a_df.hist()"
   ]
  },
  {
   "cell_type": "code",
   "execution_count": 41,
   "id": "d52bd8b1-2501-4b3b-af93-c297ca2514ee",
   "metadata": {},
   "outputs": [
    {
     "name": "stdout",
     "output_type": "stream",
     "text": [
      "                                 OLS Regression Results                                \n",
      "=======================================================================================\n",
      "Dep. Variable:                   거래금액   R-squared (uncentered):                   0.997\n",
      "Model:                            OLS   Adj. R-squared (uncentered):              0.997\n",
      "Method:                 Least Squares   F-statistic:                          2.076e+08\n",
      "Date:                Sun, 28 Apr 2024   Prob (F-statistic):                        0.00\n",
      "Time:                        15:24:26   Log-Likelihood:                     -2.3594e+06\n",
      "No. Observations:             3184057   AIC:                                  4.719e+06\n",
      "Df Residuals:                 3184051   BIC:                                  4.719e+06\n",
      "Df Model:                           6                                                  \n",
      "Covariance Type:            nonrobust                                                  \n",
      "==============================================================================\n",
      "                 coef    std err          t      P>|t|      [0.025      0.975]\n",
      "------------------------------------------------------------------------------\n",
      "동           1.845e-05   3.32e-07     55.612      0.000    1.78e-05    1.91e-05\n",
      "아파트         1.332e-07   4.44e-08      3.000      0.003    4.62e-08     2.2e-07\n",
      "지역코드       -2.867e-05   2.48e-08  -1155.635      0.000   -2.87e-05   -2.86e-05\n",
      "전용면적           1.1461      0.001   1392.430      0.000       1.145       1.148\n",
      "층              0.0185   4.61e-05    399.892      0.000       0.018       0.019\n",
      "건축년도           0.0030   1.84e-06   1611.284      0.000       0.003       0.003\n",
      "==============================================================================\n",
      "Omnibus:                    53631.393   Durbin-Watson:                   0.487\n",
      "Prob(Omnibus):                  0.000   Jarque-Bera (JB):            60793.404\n",
      "Skew:                           0.279   Prob(JB):                         0.00\n",
      "Kurtosis:                       3.384   Cond. No.                     1.13e+05\n",
      "==============================================================================\n",
      "\n",
      "Notes:\n",
      "[1] R² is computed without centering (uncentered) since the model does not contain a constant.\n",
      "[2] Standard Errors assume that the covariance matrix of the errors is correctly specified.\n",
      "[3] The condition number is large, 1.13e+05. This might indicate that there are\n",
      "strong multicollinearity or other numerical problems.\n"
     ]
    }
   ],
   "source": [
    "from statsmodels.api import OLS\n",
    "\n",
    "features, targets = en_a_df.iloc[:, :-1], en_a_df.iloc[:, -1]\n",
    "\n",
    "model = OLS(targets, features)\n",
    "print(model.fit().summary())"
   ]
  },
  {
   "cell_type": "code",
   "execution_count": 42,
   "id": "30a9d586-2e39-4505-9166-8d8756306e9a",
   "metadata": {},
   "outputs": [
    {
     "data": {
      "text/html": [
       "<div>\n",
       "<style scoped>\n",
       "    .dataframe tbody tr th:only-of-type {\n",
       "        vertical-align: middle;\n",
       "    }\n",
       "\n",
       "    .dataframe tbody tr th {\n",
       "        vertical-align: top;\n",
       "    }\n",
       "\n",
       "    .dataframe thead th {\n",
       "        text-align: right;\n",
       "    }\n",
       "</style>\n",
       "<table border=\"1\" class=\"dataframe\">\n",
       "  <thead>\n",
       "    <tr style=\"text-align: right;\">\n",
       "      <th></th>\n",
       "      <th>vif_score</th>\n",
       "      <th>feature</th>\n",
       "    </tr>\n",
       "  </thead>\n",
       "  <tbody>\n",
       "    <tr>\n",
       "      <th>0</th>\n",
       "      <td>4.282434</td>\n",
       "      <td>동</td>\n",
       "    </tr>\n",
       "    <tr>\n",
       "      <th>1</th>\n",
       "      <td>4.216126</td>\n",
       "      <td>아파트</td>\n",
       "    </tr>\n",
       "    <tr>\n",
       "      <th>2</th>\n",
       "      <td>10.515288</td>\n",
       "      <td>지역코드</td>\n",
       "    </tr>\n",
       "    <tr>\n",
       "      <th>3</th>\n",
       "      <td>154.227590</td>\n",
       "      <td>전용면적</td>\n",
       "    </tr>\n",
       "    <tr>\n",
       "      <th>4</th>\n",
       "      <td>3.147494</td>\n",
       "      <td>층</td>\n",
       "    </tr>\n",
       "    <tr>\n",
       "      <th>5</th>\n",
       "      <td>167.918066</td>\n",
       "      <td>건축년도</td>\n",
       "    </tr>\n",
       "  </tbody>\n",
       "</table>\n",
       "</div>"
      ],
      "text/plain": [
       "    vif_score feature\n",
       "0    4.282434       동\n",
       "1    4.216126     아파트\n",
       "2   10.515288    지역코드\n",
       "3  154.227590    전용면적\n",
       "4    3.147494       층\n",
       "5  167.918066    건축년도"
      ]
     },
     "execution_count": 42,
     "metadata": {},
     "output_type": "execute_result"
    }
   ],
   "source": [
    "get_vif(features)"
   ]
  },
  {
   "cell_type": "code",
   "execution_count": 43,
   "id": "8bee2b17-3d6a-4b4d-b287-e4451f99a585",
   "metadata": {},
   "outputs": [],
   "source": [
    "en_a_df = en_a_df.drop(labels=['건축년도'], axis=1)"
   ]
  },
  {
   "cell_type": "code",
   "execution_count": 44,
   "id": "a75eb4c6-a462-4ef7-9670-6ad1ba65e8dd",
   "metadata": {},
   "outputs": [
    {
     "name": "stdout",
     "output_type": "stream",
     "text": [
      "                                 OLS Regression Results                                \n",
      "=======================================================================================\n",
      "Dep. Variable:                   거래금액   R-squared (uncentered):                   0.995\n",
      "Model:                            OLS   Adj. R-squared (uncentered):              0.995\n",
      "Method:                 Least Squares   F-statistic:                          1.370e+08\n",
      "Date:                Sun, 28 Apr 2024   Prob (F-statistic):                        0.00\n",
      "Time:                        15:24:31   Log-Likelihood:                     -3.3087e+06\n",
      "No. Observations:             3184057   AIC:                                  6.617e+06\n",
      "Df Residuals:                 3184052   BIC:                                  6.617e+06\n",
      "Df Model:                           5                                                  \n",
      "Covariance Type:            nonrobust                                                  \n",
      "==============================================================================\n",
      "                 coef    std err          t      P>|t|      [0.025      0.975]\n",
      "------------------------------------------------------------------------------\n",
      "동           5.786e-05   4.46e-07    129.789      0.000     5.7e-05    5.87e-05\n",
      "아파트         7.742e-06   5.95e-08    130.193      0.000    7.62e-06    7.86e-06\n",
      "지역코드        -1.75e-05   3.21e-08   -545.186      0.000   -1.76e-05   -1.74e-05\n",
      "전용면적           2.4012      0.000   6697.409      0.000       2.400       2.402\n",
      "층              0.0176   6.22e-05    283.198      0.000       0.017       0.018\n",
      "==============================================================================\n",
      "Omnibus:                   282848.182   Durbin-Watson:                   1.024\n",
      "Prob(Omnibus):                  0.000   Jarque-Bera (JB):           510128.936\n",
      "Skew:                           0.628   Prob(JB):                         0.00\n",
      "Kurtosis:                       4.506   Cond. No.                     3.64e+04\n",
      "==============================================================================\n",
      "\n",
      "Notes:\n",
      "[1] R² is computed without centering (uncentered) since the model does not contain a constant.\n",
      "[2] Standard Errors assume that the covariance matrix of the errors is correctly specified.\n",
      "[3] The condition number is large, 3.64e+04. This might indicate that there are\n",
      "strong multicollinearity or other numerical problems.\n"
     ]
    }
   ],
   "source": [
    "from statsmodels.api import OLS\n",
    "\n",
    "features, targets = en_a_df.iloc[:, :-1], en_a_df.iloc[:, -1]\n",
    "\n",
    "model = OLS(targets, features)\n",
    "print(model.fit().summary())"
   ]
  },
  {
   "cell_type": "code",
   "execution_count": 45,
   "id": "e0ae83df-29d2-4fea-95d5-d237b1096021",
   "metadata": {},
   "outputs": [
    {
     "data": {
      "text/html": [
       "<div>\n",
       "<style scoped>\n",
       "    .dataframe tbody tr th:only-of-type {\n",
       "        vertical-align: middle;\n",
       "    }\n",
       "\n",
       "    .dataframe tbody tr th {\n",
       "        vertical-align: top;\n",
       "    }\n",
       "\n",
       "    .dataframe thead th {\n",
       "        text-align: right;\n",
       "    }\n",
       "</style>\n",
       "<table border=\"1\" class=\"dataframe\">\n",
       "  <thead>\n",
       "    <tr style=\"text-align: right;\">\n",
       "      <th></th>\n",
       "      <th>vif_score</th>\n",
       "      <th>feature</th>\n",
       "    </tr>\n",
       "  </thead>\n",
       "  <tbody>\n",
       "    <tr>\n",
       "      <th>0</th>\n",
       "      <td>4.259160</td>\n",
       "      <td>동</td>\n",
       "    </tr>\n",
       "    <tr>\n",
       "      <th>1</th>\n",
       "      <td>4.168406</td>\n",
       "      <td>아파트</td>\n",
       "    </tr>\n",
       "    <tr>\n",
       "      <th>2</th>\n",
       "      <td>9.693863</td>\n",
       "      <td>지역코드</td>\n",
       "    </tr>\n",
       "    <tr>\n",
       "      <th>3</th>\n",
       "      <td>16.117963</td>\n",
       "      <td>전용면적</td>\n",
       "    </tr>\n",
       "    <tr>\n",
       "      <th>4</th>\n",
       "      <td>3.147086</td>\n",
       "      <td>층</td>\n",
       "    </tr>\n",
       "  </tbody>\n",
       "</table>\n",
       "</div>"
      ],
      "text/plain": [
       "   vif_score feature\n",
       "0   4.259160       동\n",
       "1   4.168406     아파트\n",
       "2   9.693863    지역코드\n",
       "3  16.117963    전용면적\n",
       "4   3.147086       층"
      ]
     },
     "execution_count": 45,
     "metadata": {},
     "output_type": "execute_result"
    }
   ],
   "source": [
    "get_vif(features)"
   ]
  },
  {
   "cell_type": "code",
   "execution_count": 46,
   "id": "9ec2ac44-5b57-482d-bba1-20ba91eeee11",
   "metadata": {},
   "outputs": [
    {
     "data": {
      "text/plain": [
       "전용면적    0.587670\n",
       "층       0.270240\n",
       "동       0.014887\n",
       "아파트    -0.013915\n",
       "지역코드   -0.459630\n",
       "Name: 거래금액, dtype: float64"
      ]
     },
     "execution_count": 46,
     "metadata": {},
     "output_type": "execute_result"
    }
   ],
   "source": [
    "en_a_df.corr()['거래금액'].sort_values(ascending=False)[1:]"
   ]
  },
  {
   "cell_type": "code",
   "execution_count": 49,
   "id": "f401bdd2-6008-4db5-bdd8-58d748e6fe7a",
   "metadata": {},
   "outputs": [],
   "source": [
    "new_a_df = en_a_df.loc[:, en_a_df.columns != '아파트']"
   ]
  },
  {
   "cell_type": "code",
   "execution_count": 51,
   "id": "e761d669-3cf8-4f87-beb1-d628de20979a",
   "metadata": {},
   "outputs": [
    {
     "data": {
      "text/html": [
       "<div>\n",
       "<style scoped>\n",
       "    .dataframe tbody tr th:only-of-type {\n",
       "        vertical-align: middle;\n",
       "    }\n",
       "\n",
       "    .dataframe tbody tr th {\n",
       "        vertical-align: top;\n",
       "    }\n",
       "\n",
       "    .dataframe thead th {\n",
       "        text-align: right;\n",
       "    }\n",
       "</style>\n",
       "<table border=\"1\" class=\"dataframe\">\n",
       "  <thead>\n",
       "    <tr style=\"text-align: right;\">\n",
       "      <th></th>\n",
       "      <th>동</th>\n",
       "      <th>지역코드</th>\n",
       "      <th>전용면적</th>\n",
       "      <th>층</th>\n",
       "      <th>거래금액</th>\n",
       "    </tr>\n",
       "  </thead>\n",
       "  <tbody>\n",
       "    <tr>\n",
       "      <th>0</th>\n",
       "      <td>2871</td>\n",
       "      <td>31110.0</td>\n",
       "      <td>4.916911</td>\n",
       "      <td>8</td>\n",
       "      <td>10.192456</td>\n",
       "    </tr>\n",
       "    <tr>\n",
       "      <th>1</th>\n",
       "      <td>433</td>\n",
       "      <td>31110.0</td>\n",
       "      <td>4.454254</td>\n",
       "      <td>11</td>\n",
       "      <td>10.505095</td>\n",
       "    </tr>\n",
       "    <tr>\n",
       "      <th>2</th>\n",
       "      <td>433</td>\n",
       "      <td>31110.0</td>\n",
       "      <td>4.751299</td>\n",
       "      <td>2</td>\n",
       "      <td>10.621352</td>\n",
       "    </tr>\n",
       "    <tr>\n",
       "      <th>3</th>\n",
       "      <td>433</td>\n",
       "      <td>31110.0</td>\n",
       "      <td>4.454254</td>\n",
       "      <td>5</td>\n",
       "      <td>10.434145</td>\n",
       "    </tr>\n",
       "    <tr>\n",
       "      <th>4</th>\n",
       "      <td>433</td>\n",
       "      <td>31110.0</td>\n",
       "      <td>4.200505</td>\n",
       "      <td>5</td>\n",
       "      <td>8.987322</td>\n",
       "    </tr>\n",
       "    <tr>\n",
       "      <th>...</th>\n",
       "      <td>...</td>\n",
       "      <td>...</td>\n",
       "      <td>...</td>\n",
       "      <td>...</td>\n",
       "      <td>...</td>\n",
       "    </tr>\n",
       "    <tr>\n",
       "      <th>3184052</th>\n",
       "      <td>634</td>\n",
       "      <td>50130.0</td>\n",
       "      <td>4.062682</td>\n",
       "      <td>3</td>\n",
       "      <td>9.825580</td>\n",
       "    </tr>\n",
       "    <tr>\n",
       "      <th>3184053</th>\n",
       "      <td>634</td>\n",
       "      <td>50130.0</td>\n",
       "      <td>4.062682</td>\n",
       "      <td>6</td>\n",
       "      <td>9.878221</td>\n",
       "    </tr>\n",
       "    <tr>\n",
       "      <th>3184054</th>\n",
       "      <td>1388</td>\n",
       "      <td>50130.0</td>\n",
       "      <td>3.835358</td>\n",
       "      <td>1</td>\n",
       "      <td>9.137877</td>\n",
       "    </tr>\n",
       "    <tr>\n",
       "      <th>3184055</th>\n",
       "      <td>2479</td>\n",
       "      <td>50130.0</td>\n",
       "      <td>3.968025</td>\n",
       "      <td>2</td>\n",
       "      <td>10.146473</td>\n",
       "    </tr>\n",
       "    <tr>\n",
       "      <th>3184056</th>\n",
       "      <td>2479</td>\n",
       "      <td>50130.0</td>\n",
       "      <td>4.454202</td>\n",
       "      <td>5</td>\n",
       "      <td>10.868587</td>\n",
       "    </tr>\n",
       "  </tbody>\n",
       "</table>\n",
       "<p>3184057 rows × 5 columns</p>\n",
       "</div>"
      ],
      "text/plain": [
       "            동     지역코드      전용면적   층       거래금액\n",
       "0        2871  31110.0  4.916911   8  10.192456\n",
       "1         433  31110.0  4.454254  11  10.505095\n",
       "2         433  31110.0  4.751299   2  10.621352\n",
       "3         433  31110.0  4.454254   5  10.434145\n",
       "4         433  31110.0  4.200505   5   8.987322\n",
       "...       ...      ...       ...  ..        ...\n",
       "3184052   634  50130.0  4.062682   3   9.825580\n",
       "3184053   634  50130.0  4.062682   6   9.878221\n",
       "3184054  1388  50130.0  3.835358   1   9.137877\n",
       "3184055  2479  50130.0  3.968025   2  10.146473\n",
       "3184056  2479  50130.0  4.454202   5  10.868587\n",
       "\n",
       "[3184057 rows x 5 columns]"
      ]
     },
     "execution_count": 51,
     "metadata": {},
     "output_type": "execute_result"
    }
   ],
   "source": [
    "new_a_df"
   ]
  },
  {
   "cell_type": "code",
   "execution_count": 50,
   "id": "bc0de8d9-c1d6-4d34-859f-dd3a2e32e226",
   "metadata": {},
   "outputs": [
    {
     "name": "stdout",
     "output_type": "stream",
     "text": [
      "                                 OLS Regression Results                                \n",
      "=======================================================================================\n",
      "Dep. Variable:                   거래금액   R-squared (uncentered):                   0.995\n",
      "Model:                            OLS   Adj. R-squared (uncentered):              0.995\n",
      "Method:                 Least Squares   F-statistic:                          1.703e+08\n",
      "Date:                Sun, 28 Apr 2024   Prob (F-statistic):                        0.00\n",
      "Time:                        15:26:33   Log-Likelihood:                     -3.3171e+06\n",
      "No. Observations:             3184057   AIC:                                  6.634e+06\n",
      "Df Residuals:                 3184053   BIC:                                  6.634e+06\n",
      "Df Model:                           4                                                  \n",
      "Covariance Type:            nonrobust                                                  \n",
      "==============================================================================\n",
      "                 coef    std err          t      P>|t|      [0.025      0.975]\n",
      "------------------------------------------------------------------------------\n",
      "동           6.603e-05   4.43e-07    149.211      0.000    6.52e-05    6.69e-05\n",
      "지역코드       -1.719e-05   3.21e-08   -535.680      0.000   -1.73e-05   -1.71e-05\n",
      "전용면적           2.4165      0.000   7114.171      0.000       2.416       2.417\n",
      "층              0.0175   6.23e-05    281.520      0.000       0.017       0.018\n",
      "==============================================================================\n",
      "Omnibus:                   289956.715   Durbin-Watson:                   1.028\n",
      "Prob(Omnibus):                  0.000   Jarque-Bera (JB):           532768.903\n",
      "Skew:                           0.635   Prob(JB):                         0.00\n",
      "Kurtosis:                       4.551   Cond. No.                     3.30e+04\n",
      "==============================================================================\n",
      "\n",
      "Notes:\n",
      "[1] R² is computed without centering (uncentered) since the model does not contain a constant.\n",
      "[2] Standard Errors assume that the covariance matrix of the errors is correctly specified.\n",
      "[3] The condition number is large, 3.3e+04. This might indicate that there are\n",
      "strong multicollinearity or other numerical problems.\n"
     ]
    }
   ],
   "source": [
    "from statsmodels.api import OLS\n",
    "\n",
    "features, targets = new_a_df.iloc[:, :-1], new_a_df.iloc[:, -1]\n",
    "\n",
    "model = OLS(targets, features)\n",
    "print(model.fit().summary())"
   ]
  },
  {
   "cell_type": "code",
   "execution_count": 52,
   "id": "a572e292-6bd7-4a73-acc0-af1f5b1955a2",
   "metadata": {},
   "outputs": [
    {
     "data": {
      "text/html": [
       "<div>\n",
       "<style scoped>\n",
       "    .dataframe tbody tr th:only-of-type {\n",
       "        vertical-align: middle;\n",
       "    }\n",
       "\n",
       "    .dataframe tbody tr th {\n",
       "        vertical-align: top;\n",
       "    }\n",
       "\n",
       "    .dataframe thead th {\n",
       "        text-align: right;\n",
       "    }\n",
       "</style>\n",
       "<table border=\"1\" class=\"dataframe\">\n",
       "  <thead>\n",
       "    <tr style=\"text-align: right;\">\n",
       "      <th></th>\n",
       "      <th>vif_score</th>\n",
       "      <th>feature</th>\n",
       "    </tr>\n",
       "  </thead>\n",
       "  <tbody>\n",
       "    <tr>\n",
       "      <th>0</th>\n",
       "      <td>4.174750</td>\n",
       "      <td>동</td>\n",
       "    </tr>\n",
       "    <tr>\n",
       "      <th>1</th>\n",
       "      <td>9.642021</td>\n",
       "      <td>지역코드</td>\n",
       "    </tr>\n",
       "    <tr>\n",
       "      <th>2</th>\n",
       "      <td>14.390620</td>\n",
       "      <td>전용면적</td>\n",
       "    </tr>\n",
       "    <tr>\n",
       "      <th>3</th>\n",
       "      <td>3.146923</td>\n",
       "      <td>층</td>\n",
       "    </tr>\n",
       "  </tbody>\n",
       "</table>\n",
       "</div>"
      ],
      "text/plain": [
       "   vif_score feature\n",
       "0   4.174750       동\n",
       "1   9.642021    지역코드\n",
       "2  14.390620    전용면적\n",
       "3   3.146923       층"
      ]
     },
     "execution_count": 52,
     "metadata": {},
     "output_type": "execute_result"
    }
   ],
   "source": [
    "get_vif(features)"
   ]
  },
  {
   "cell_type": "code",
   "execution_count": 53,
   "id": "40fa440d-7a0f-427c-b50f-e162a651fda7",
   "metadata": {},
   "outputs": [],
   "source": [
    "new_a_df = en_a_df.loc[:, en_a_df.columns != '동']"
   ]
  },
  {
   "cell_type": "code",
   "execution_count": 54,
   "id": "de709d35-9151-4b71-adc9-a33a1a97bca3",
   "metadata": {},
   "outputs": [
    {
     "data": {
      "text/html": [
       "<div>\n",
       "<style scoped>\n",
       "    .dataframe tbody tr th:only-of-type {\n",
       "        vertical-align: middle;\n",
       "    }\n",
       "\n",
       "    .dataframe tbody tr th {\n",
       "        vertical-align: top;\n",
       "    }\n",
       "\n",
       "    .dataframe thead th {\n",
       "        text-align: right;\n",
       "    }\n",
       "</style>\n",
       "<table border=\"1\" class=\"dataframe\">\n",
       "  <thead>\n",
       "    <tr style=\"text-align: right;\">\n",
       "      <th></th>\n",
       "      <th>아파트</th>\n",
       "      <th>지역코드</th>\n",
       "      <th>전용면적</th>\n",
       "      <th>층</th>\n",
       "      <th>거래금액</th>\n",
       "    </tr>\n",
       "  </thead>\n",
       "  <tbody>\n",
       "    <tr>\n",
       "      <th>0</th>\n",
       "      <td>2893</td>\n",
       "      <td>31110.0</td>\n",
       "      <td>4.916911</td>\n",
       "      <td>8</td>\n",
       "      <td>10.192456</td>\n",
       "    </tr>\n",
       "    <tr>\n",
       "      <th>1</th>\n",
       "      <td>13644</td>\n",
       "      <td>31110.0</td>\n",
       "      <td>4.454254</td>\n",
       "      <td>11</td>\n",
       "      <td>10.505095</td>\n",
       "    </tr>\n",
       "    <tr>\n",
       "      <th>2</th>\n",
       "      <td>13644</td>\n",
       "      <td>31110.0</td>\n",
       "      <td>4.751299</td>\n",
       "      <td>2</td>\n",
       "      <td>10.621352</td>\n",
       "    </tr>\n",
       "    <tr>\n",
       "      <th>3</th>\n",
       "      <td>13644</td>\n",
       "      <td>31110.0</td>\n",
       "      <td>4.454254</td>\n",
       "      <td>5</td>\n",
       "      <td>10.434145</td>\n",
       "    </tr>\n",
       "    <tr>\n",
       "      <th>4</th>\n",
       "      <td>7788</td>\n",
       "      <td>31110.0</td>\n",
       "      <td>4.200505</td>\n",
       "      <td>5</td>\n",
       "      <td>8.987322</td>\n",
       "    </tr>\n",
       "    <tr>\n",
       "      <th>...</th>\n",
       "      <td>...</td>\n",
       "      <td>...</td>\n",
       "      <td>...</td>\n",
       "      <td>...</td>\n",
       "      <td>...</td>\n",
       "    </tr>\n",
       "    <tr>\n",
       "      <th>3184052</th>\n",
       "      <td>4436</td>\n",
       "      <td>50130.0</td>\n",
       "      <td>4.062682</td>\n",
       "      <td>3</td>\n",
       "      <td>9.825580</td>\n",
       "    </tr>\n",
       "    <tr>\n",
       "      <th>3184053</th>\n",
       "      <td>4436</td>\n",
       "      <td>50130.0</td>\n",
       "      <td>4.062682</td>\n",
       "      <td>6</td>\n",
       "      <td>9.878221</td>\n",
       "    </tr>\n",
       "    <tr>\n",
       "      <th>3184054</th>\n",
       "      <td>10285</td>\n",
       "      <td>50130.0</td>\n",
       "      <td>3.835358</td>\n",
       "      <td>1</td>\n",
       "      <td>9.137877</td>\n",
       "    </tr>\n",
       "    <tr>\n",
       "      <th>3184055</th>\n",
       "      <td>17484</td>\n",
       "      <td>50130.0</td>\n",
       "      <td>3.968025</td>\n",
       "      <td>2</td>\n",
       "      <td>10.146473</td>\n",
       "    </tr>\n",
       "    <tr>\n",
       "      <th>3184056</th>\n",
       "      <td>310</td>\n",
       "      <td>50130.0</td>\n",
       "      <td>4.454202</td>\n",
       "      <td>5</td>\n",
       "      <td>10.868587</td>\n",
       "    </tr>\n",
       "  </tbody>\n",
       "</table>\n",
       "<p>3184057 rows × 5 columns</p>\n",
       "</div>"
      ],
      "text/plain": [
       "           아파트     지역코드      전용면적   층       거래금액\n",
       "0         2893  31110.0  4.916911   8  10.192456\n",
       "1        13644  31110.0  4.454254  11  10.505095\n",
       "2        13644  31110.0  4.751299   2  10.621352\n",
       "3        13644  31110.0  4.454254   5  10.434145\n",
       "4         7788  31110.0  4.200505   5   8.987322\n",
       "...        ...      ...       ...  ..        ...\n",
       "3184052   4436  50130.0  4.062682   3   9.825580\n",
       "3184053   4436  50130.0  4.062682   6   9.878221\n",
       "3184054  10285  50130.0  3.835358   1   9.137877\n",
       "3184055  17484  50130.0  3.968025   2  10.146473\n",
       "3184056    310  50130.0  4.454202   5  10.868587\n",
       "\n",
       "[3184057 rows x 5 columns]"
      ]
     },
     "execution_count": 54,
     "metadata": {},
     "output_type": "execute_result"
    }
   ],
   "source": [
    "new_a_df"
   ]
  },
  {
   "cell_type": "code",
   "execution_count": 55,
   "id": "9ab9ac33-cab1-414d-8769-8010b6eaac06",
   "metadata": {},
   "outputs": [
    {
     "name": "stdout",
     "output_type": "stream",
     "text": [
      "                                 OLS Regression Results                                \n",
      "=======================================================================================\n",
      "Dep. Variable:                   거래금액   R-squared (uncentered):                   0.995\n",
      "Model:                            OLS   Adj. R-squared (uncentered):              0.995\n",
      "Method:                 Least Squares   F-statistic:                          1.703e+08\n",
      "Date:                Sun, 28 Apr 2024   Prob (F-statistic):                        0.00\n",
      "Time:                        15:27:31   Log-Likelihood:                     -3.3171e+06\n",
      "No. Observations:             3184057   AIC:                                  6.634e+06\n",
      "Df Residuals:                 3184053   BIC:                                  6.634e+06\n",
      "Df Model:                           4                                                  \n",
      "Covariance Type:            nonrobust                                                  \n",
      "==============================================================================\n",
      "                 coef    std err          t      P>|t|      [0.025      0.975]\n",
      "------------------------------------------------------------------------------\n",
      "아파트         8.828e-06    5.9e-08    149.563      0.000    8.71e-06    8.94e-06\n",
      "지역코드       -1.714e-05   3.21e-08   -534.659      0.000   -1.72e-05   -1.71e-05\n",
      "전용면적           2.4160      0.000   7089.599      0.000       2.415       2.417\n",
      "층              0.0177   6.23e-05    284.124      0.000       0.018       0.018\n",
      "==============================================================================\n",
      "Omnibus:                   289404.636   Durbin-Watson:                   1.036\n",
      "Prob(Omnibus):                  0.000   Jarque-Bera (JB):           528074.810\n",
      "Skew:                           0.636   Prob(JB):                         0.00\n",
      "Kurtosis:                       4.537   Cond. No.                     3.45e+04\n",
      "==============================================================================\n",
      "\n",
      "Notes:\n",
      "[1] R² is computed without centering (uncentered) since the model does not contain a constant.\n",
      "[2] Standard Errors assume that the covariance matrix of the errors is correctly specified.\n",
      "[3] The condition number is large, 3.45e+04. This might indicate that there are\n",
      "strong multicollinearity or other numerical problems.\n"
     ]
    }
   ],
   "source": [
    "from statsmodels.api import OLS\n",
    "\n",
    "features, targets = new_a_df.iloc[:, :-1], new_a_df.iloc[:, -1]\n",
    "\n",
    "model = OLS(targets, features)\n",
    "print(model.fit().summary())"
   ]
  },
  {
   "cell_type": "code",
   "execution_count": 56,
   "id": "ff01bf3e-e435-4794-afdf-d91708f01f9c",
   "metadata": {},
   "outputs": [
    {
     "data": {
      "text/html": [
       "<div>\n",
       "<style scoped>\n",
       "    .dataframe tbody tr th:only-of-type {\n",
       "        vertical-align: middle;\n",
       "    }\n",
       "\n",
       "    .dataframe tbody tr th {\n",
       "        vertical-align: top;\n",
       "    }\n",
       "\n",
       "    .dataframe thead th {\n",
       "        text-align: right;\n",
       "    }\n",
       "</style>\n",
       "<table border=\"1\" class=\"dataframe\">\n",
       "  <thead>\n",
       "    <tr style=\"text-align: right;\">\n",
       "      <th></th>\n",
       "      <th>vif_score</th>\n",
       "      <th>feature</th>\n",
       "    </tr>\n",
       "  </thead>\n",
       "  <tbody>\n",
       "    <tr>\n",
       "      <th>0</th>\n",
       "      <td>4.085794</td>\n",
       "      <td>아파트</td>\n",
       "    </tr>\n",
       "    <tr>\n",
       "      <th>1</th>\n",
       "      <td>9.623374</td>\n",
       "      <td>지역코드</td>\n",
       "    </tr>\n",
       "    <tr>\n",
       "      <th>2</th>\n",
       "      <td>14.485372</td>\n",
       "      <td>전용면적</td>\n",
       "    </tr>\n",
       "    <tr>\n",
       "      <th>3</th>\n",
       "      <td>3.146576</td>\n",
       "      <td>층</td>\n",
       "    </tr>\n",
       "  </tbody>\n",
       "</table>\n",
       "</div>"
      ],
      "text/plain": [
       "   vif_score feature\n",
       "0   4.085794     아파트\n",
       "1   9.623374    지역코드\n",
       "2  14.485372    전용면적\n",
       "3   3.146576       층"
      ]
     },
     "execution_count": 56,
     "metadata": {},
     "output_type": "execute_result"
    }
   ],
   "source": [
    "get_vif(features)"
   ]
  },
  {
   "cell_type": "code",
   "execution_count": 57,
   "id": "bbaa2a9a-1963-4877-80c0-1cf27782f7de",
   "metadata": {},
   "outputs": [],
   "source": [
    "new_a_df = en_a_df.loc[:, en_a_df.columns != '지역코드']"
   ]
  },
  {
   "cell_type": "code",
   "execution_count": 58,
   "id": "700cfbcc-45f7-4983-a5a2-9a4d38079d96",
   "metadata": {},
   "outputs": [
    {
     "name": "stdout",
     "output_type": "stream",
     "text": [
      "                                 OLS Regression Results                                \n",
      "=======================================================================================\n",
      "Dep. Variable:                   거래금액   R-squared (uncentered):                   0.995\n",
      "Model:                            OLS   Adj. R-squared (uncentered):              0.995\n",
      "Method:                 Least Squares   F-statistic:                          1.565e+08\n",
      "Date:                Sun, 28 Apr 2024   Prob (F-statistic):                        0.00\n",
      "Time:                        15:28:02   Log-Likelihood:                     -3.4508e+06\n",
      "No. Observations:             3184057   AIC:                                  6.902e+06\n",
      "Df Residuals:                 3184053   BIC:                                  6.902e+06\n",
      "Df Model:                           4                                                  \n",
      "Covariance Type:            nonrobust                                                  \n",
      "==============================================================================\n",
      "                 coef    std err          t      P>|t|      [0.025      0.975]\n",
      "------------------------------------------------------------------------------\n",
      "동           3.713e-05   4.64e-07     79.956      0.000    3.62e-05     3.8e-05\n",
      "아파트         5.371e-06    6.2e-08     86.614      0.000    5.25e-06    5.49e-06\n",
      "전용면적           2.2672      0.000   8304.225      0.000       2.267       2.268\n",
      "층              0.0197   6.49e-05    302.965      0.000       0.020       0.020\n",
      "==============================================================================\n",
      "Omnibus:                   291691.705   Durbin-Watson:                   0.818\n",
      "Prob(Omnibus):                  0.000   Jarque-Bera (JB):           492682.805\n",
      "Skew:                           0.666   Prob(JB):                         0.00\n",
      "Kurtosis:                       4.393   Cond. No.                     9.08e+03\n",
      "==============================================================================\n",
      "\n",
      "Notes:\n",
      "[1] R² is computed without centering (uncentered) since the model does not contain a constant.\n",
      "[2] Standard Errors assume that the covariance matrix of the errors is correctly specified.\n",
      "[3] The condition number is large, 9.08e+03. This might indicate that there are\n",
      "strong multicollinearity or other numerical problems.\n"
     ]
    }
   ],
   "source": [
    "from statsmodels.api import OLS\n",
    "\n",
    "features, targets = new_a_df.iloc[:, :-1], new_a_df.iloc[:, -1]\n",
    "\n",
    "model = OLS(targets, features)\n",
    "print(model.fit().summary())"
   ]
  },
  {
   "cell_type": "code",
   "execution_count": 59,
   "id": "3920f0d4-aab9-4b70-8157-63bc28361184",
   "metadata": {},
   "outputs": [
    {
     "data": {
      "text/html": [
       "<div>\n",
       "<style scoped>\n",
       "    .dataframe tbody tr th:only-of-type {\n",
       "        vertical-align: middle;\n",
       "    }\n",
       "\n",
       "    .dataframe tbody tr th {\n",
       "        vertical-align: top;\n",
       "    }\n",
       "\n",
       "    .dataframe thead th {\n",
       "        text-align: right;\n",
       "    }\n",
       "</style>\n",
       "<table border=\"1\" class=\"dataframe\">\n",
       "  <thead>\n",
       "    <tr style=\"text-align: right;\">\n",
       "      <th></th>\n",
       "      <th>vif_score</th>\n",
       "      <th>feature</th>\n",
       "    </tr>\n",
       "  </thead>\n",
       "  <tbody>\n",
       "    <tr>\n",
       "      <th>0</th>\n",
       "      <td>4.228189</td>\n",
       "      <td>동</td>\n",
       "    </tr>\n",
       "    <tr>\n",
       "      <th>1</th>\n",
       "      <td>4.146113</td>\n",
       "      <td>아파트</td>\n",
       "    </tr>\n",
       "    <tr>\n",
       "      <th>2</th>\n",
       "      <td>8.548901</td>\n",
       "      <td>전용면적</td>\n",
       "    </tr>\n",
       "    <tr>\n",
       "      <th>3</th>\n",
       "      <td>3.135548</td>\n",
       "      <td>층</td>\n",
       "    </tr>\n",
       "  </tbody>\n",
       "</table>\n",
       "</div>"
      ],
      "text/plain": [
       "   vif_score feature\n",
       "0   4.228189       동\n",
       "1   4.146113     아파트\n",
       "2   8.548901    전용면적\n",
       "3   3.135548       층"
      ]
     },
     "execution_count": 59,
     "metadata": {},
     "output_type": "execute_result"
    }
   ],
   "source": [
    "get_vif(features)"
   ]
  },
  {
   "cell_type": "code",
   "execution_count": null,
   "id": "90c972b1-ca05-4a7f-a581-a4396cc24579",
   "metadata": {},
   "outputs": [],
   "source": [
    "new_a_df"
   ]
  },
  {
   "cell_type": "code",
   "execution_count": 60,
   "id": "b6642828-fecb-418d-80d0-1ce8e2b4efa8",
   "metadata": {},
   "outputs": [
    {
     "data": {
      "text/html": [
       "<style>#sk-container-id-1 {color: black;background-color: white;}#sk-container-id-1 pre{padding: 0;}#sk-container-id-1 div.sk-toggleable {background-color: white;}#sk-container-id-1 label.sk-toggleable__label {cursor: pointer;display: block;width: 100%;margin-bottom: 0;padding: 0.3em;box-sizing: border-box;text-align: center;}#sk-container-id-1 label.sk-toggleable__label-arrow:before {content: \"▸\";float: left;margin-right: 0.25em;color: #696969;}#sk-container-id-1 label.sk-toggleable__label-arrow:hover:before {color: black;}#sk-container-id-1 div.sk-estimator:hover label.sk-toggleable__label-arrow:before {color: black;}#sk-container-id-1 div.sk-toggleable__content {max-height: 0;max-width: 0;overflow: hidden;text-align: left;background-color: #f0f8ff;}#sk-container-id-1 div.sk-toggleable__content pre {margin: 0.2em;color: black;border-radius: 0.25em;background-color: #f0f8ff;}#sk-container-id-1 input.sk-toggleable__control:checked~div.sk-toggleable__content {max-height: 200px;max-width: 100%;overflow: auto;}#sk-container-id-1 input.sk-toggleable__control:checked~label.sk-toggleable__label-arrow:before {content: \"▾\";}#sk-container-id-1 div.sk-estimator input.sk-toggleable__control:checked~label.sk-toggleable__label {background-color: #d4ebff;}#sk-container-id-1 div.sk-label input.sk-toggleable__control:checked~label.sk-toggleable__label {background-color: #d4ebff;}#sk-container-id-1 input.sk-hidden--visually {border: 0;clip: rect(1px 1px 1px 1px);clip: rect(1px, 1px, 1px, 1px);height: 1px;margin: -1px;overflow: hidden;padding: 0;position: absolute;width: 1px;}#sk-container-id-1 div.sk-estimator {font-family: monospace;background-color: #f0f8ff;border: 1px dotted black;border-radius: 0.25em;box-sizing: border-box;margin-bottom: 0.5em;}#sk-container-id-1 div.sk-estimator:hover {background-color: #d4ebff;}#sk-container-id-1 div.sk-parallel-item::after {content: \"\";width: 100%;border-bottom: 1px solid gray;flex-grow: 1;}#sk-container-id-1 div.sk-label:hover label.sk-toggleable__label {background-color: #d4ebff;}#sk-container-id-1 div.sk-serial::before {content: \"\";position: absolute;border-left: 1px solid gray;box-sizing: border-box;top: 0;bottom: 0;left: 50%;z-index: 0;}#sk-container-id-1 div.sk-serial {display: flex;flex-direction: column;align-items: center;background-color: white;padding-right: 0.2em;padding-left: 0.2em;position: relative;}#sk-container-id-1 div.sk-item {position: relative;z-index: 1;}#sk-container-id-1 div.sk-parallel {display: flex;align-items: stretch;justify-content: center;background-color: white;position: relative;}#sk-container-id-1 div.sk-item::before, #sk-container-id-1 div.sk-parallel-item::before {content: \"\";position: absolute;border-left: 1px solid gray;box-sizing: border-box;top: 0;bottom: 0;left: 50%;z-index: -1;}#sk-container-id-1 div.sk-parallel-item {display: flex;flex-direction: column;z-index: 1;position: relative;background-color: white;}#sk-container-id-1 div.sk-parallel-item:first-child::after {align-self: flex-end;width: 50%;}#sk-container-id-1 div.sk-parallel-item:last-child::after {align-self: flex-start;width: 50%;}#sk-container-id-1 div.sk-parallel-item:only-child::after {width: 0;}#sk-container-id-1 div.sk-dashed-wrapped {border: 1px dashed gray;margin: 0 0.4em 0.5em 0.4em;box-sizing: border-box;padding-bottom: 0.4em;background-color: white;}#sk-container-id-1 div.sk-label label {font-family: monospace;font-weight: bold;display: inline-block;line-height: 1.2em;}#sk-container-id-1 div.sk-label-container {text-align: center;}#sk-container-id-1 div.sk-container {/* jupyter's `normalize.less` sets `[hidden] { display: none; }` but bootstrap.min.css set `[hidden] { display: none !important; }` so we also need the `!important` here to be able to override the default hidden behavior on the sphinx rendered scikit-learn.org. See: https://github.com/scikit-learn/scikit-learn/issues/21755 */display: inline-block !important;position: relative;}#sk-container-id-1 div.sk-text-repr-fallback {display: none;}</style><div id=\"sk-container-id-1\" class=\"sk-top-container\"><div class=\"sk-text-repr-fallback\"><pre>LinearRegression()</pre><b>In a Jupyter environment, please rerun this cell to show the HTML representation or trust the notebook. <br />On GitHub, the HTML representation is unable to render, please try loading this page with nbviewer.org.</b></div><div class=\"sk-container\" hidden><div class=\"sk-item\"><div class=\"sk-estimator sk-toggleable\"><input class=\"sk-toggleable__control sk-hidden--visually\" id=\"sk-estimator-id-1\" type=\"checkbox\" checked><label for=\"sk-estimator-id-1\" class=\"sk-toggleable__label sk-toggleable__label-arrow\">LinearRegression</label><div class=\"sk-toggleable__content\"><pre>LinearRegression()</pre></div></div></div></div></div>"
      ],
      "text/plain": [
       "LinearRegression()"
      ]
     },
     "execution_count": 60,
     "metadata": {},
     "output_type": "execute_result"
    }
   ],
   "source": [
    "from sklearn.model_selection import train_test_split\n",
    "from sklearn.linear_model import LinearRegression\n",
    "\n",
    "features, targets = new_a_df.iloc[:, :-1], new_a_df.iloc[:, -1]\n",
    "\n",
    "X_train, X_test, y_train, y_test = \\\n",
    "train_test_split(features, targets, test_size=0.2, random_state=124)\n",
    "\n",
    "l_r = LinearRegression()\n",
    "l_r.fit(X_train, y_train)"
   ]
  },
  {
   "cell_type": "code",
   "execution_count": 61,
   "id": "7e9b469e-cea5-41d7-8db4-42e9598a76c5",
   "metadata": {},
   "outputs": [],
   "source": [
    "from sklearn.metrics import mean_squared_log_error, mean_squared_error, r2_score\n",
    "\n",
    "def get_evaluation(y_test, prediction):\n",
    "    MSE = mean_squared_error(y_test, prediction)\n",
    "    RMSE = np.sqrt(MSE)\n",
    "    MSLE = mean_squared_log_error(y_test, prediction)\n",
    "    RMSLE = np.sqrt(mean_squared_log_error(y_test, prediction))\n",
    "    R2 = r2_score(y_test, prediction)\n",
    "    print('MSE: {:.4f}, RMSE: {:.4f}, MSLE: {:.4f}, RMSLE: {:.4f}, R2: {:.4f}'\\\n",
    "          .format(MSE, RMSE, MSLE, RMSLE, R2))"
   ]
  },
  {
   "cell_type": "code",
   "execution_count": 62,
   "id": "bafd51a3-c32d-46a4-94f4-6586d9d074ba",
   "metadata": {},
   "outputs": [
    {
     "name": "stdout",
     "output_type": "stream",
     "text": [
      "MSE: 0.3721, RMSE: 0.6100, MSLE: 0.0031, RMSLE: 0.0559, R2: 0.3758\n"
     ]
    }
   ],
   "source": [
    "prediction = l_r.predict(X_test)\n",
    "\n",
    "get_evaluation(y_test, prediction)"
   ]
  },
  {
   "cell_type": "code",
   "execution_count": 65,
   "id": "30243641-8b5a-40df-b83d-61b17c27e3af",
   "metadata": {},
   "outputs": [
    {
     "data": {
      "text/html": [
       "<style>#sk-container-id-3 {color: black;background-color: white;}#sk-container-id-3 pre{padding: 0;}#sk-container-id-3 div.sk-toggleable {background-color: white;}#sk-container-id-3 label.sk-toggleable__label {cursor: pointer;display: block;width: 100%;margin-bottom: 0;padding: 0.3em;box-sizing: border-box;text-align: center;}#sk-container-id-3 label.sk-toggleable__label-arrow:before {content: \"▸\";float: left;margin-right: 0.25em;color: #696969;}#sk-container-id-3 label.sk-toggleable__label-arrow:hover:before {color: black;}#sk-container-id-3 div.sk-estimator:hover label.sk-toggleable__label-arrow:before {color: black;}#sk-container-id-3 div.sk-toggleable__content {max-height: 0;max-width: 0;overflow: hidden;text-align: left;background-color: #f0f8ff;}#sk-container-id-3 div.sk-toggleable__content pre {margin: 0.2em;color: black;border-radius: 0.25em;background-color: #f0f8ff;}#sk-container-id-3 input.sk-toggleable__control:checked~div.sk-toggleable__content {max-height: 200px;max-width: 100%;overflow: auto;}#sk-container-id-3 input.sk-toggleable__control:checked~label.sk-toggleable__label-arrow:before {content: \"▾\";}#sk-container-id-3 div.sk-estimator input.sk-toggleable__control:checked~label.sk-toggleable__label {background-color: #d4ebff;}#sk-container-id-3 div.sk-label input.sk-toggleable__control:checked~label.sk-toggleable__label {background-color: #d4ebff;}#sk-container-id-3 input.sk-hidden--visually {border: 0;clip: rect(1px 1px 1px 1px);clip: rect(1px, 1px, 1px, 1px);height: 1px;margin: -1px;overflow: hidden;padding: 0;position: absolute;width: 1px;}#sk-container-id-3 div.sk-estimator {font-family: monospace;background-color: #f0f8ff;border: 1px dotted black;border-radius: 0.25em;box-sizing: border-box;margin-bottom: 0.5em;}#sk-container-id-3 div.sk-estimator:hover {background-color: #d4ebff;}#sk-container-id-3 div.sk-parallel-item::after {content: \"\";width: 100%;border-bottom: 1px solid gray;flex-grow: 1;}#sk-container-id-3 div.sk-label:hover label.sk-toggleable__label {background-color: #d4ebff;}#sk-container-id-3 div.sk-serial::before {content: \"\";position: absolute;border-left: 1px solid gray;box-sizing: border-box;top: 0;bottom: 0;left: 50%;z-index: 0;}#sk-container-id-3 div.sk-serial {display: flex;flex-direction: column;align-items: center;background-color: white;padding-right: 0.2em;padding-left: 0.2em;position: relative;}#sk-container-id-3 div.sk-item {position: relative;z-index: 1;}#sk-container-id-3 div.sk-parallel {display: flex;align-items: stretch;justify-content: center;background-color: white;position: relative;}#sk-container-id-3 div.sk-item::before, #sk-container-id-3 div.sk-parallel-item::before {content: \"\";position: absolute;border-left: 1px solid gray;box-sizing: border-box;top: 0;bottom: 0;left: 50%;z-index: -1;}#sk-container-id-3 div.sk-parallel-item {display: flex;flex-direction: column;z-index: 1;position: relative;background-color: white;}#sk-container-id-3 div.sk-parallel-item:first-child::after {align-self: flex-end;width: 50%;}#sk-container-id-3 div.sk-parallel-item:last-child::after {align-self: flex-start;width: 50%;}#sk-container-id-3 div.sk-parallel-item:only-child::after {width: 0;}#sk-container-id-3 div.sk-dashed-wrapped {border: 1px dashed gray;margin: 0 0.4em 0.5em 0.4em;box-sizing: border-box;padding-bottom: 0.4em;background-color: white;}#sk-container-id-3 div.sk-label label {font-family: monospace;font-weight: bold;display: inline-block;line-height: 1.2em;}#sk-container-id-3 div.sk-label-container {text-align: center;}#sk-container-id-3 div.sk-container {/* jupyter's `normalize.less` sets `[hidden] { display: none; }` but bootstrap.min.css set `[hidden] { display: none !important; }` so we also need the `!important` here to be able to override the default hidden behavior on the sphinx rendered scikit-learn.org. See: https://github.com/scikit-learn/scikit-learn/issues/21755 */display: inline-block !important;position: relative;}#sk-container-id-3 div.sk-text-repr-fallback {display: none;}</style><div id=\"sk-container-id-3\" class=\"sk-top-container\"><div class=\"sk-text-repr-fallback\"><pre>LinearRegression()</pre><b>In a Jupyter environment, please rerun this cell to show the HTML representation or trust the notebook. <br />On GitHub, the HTML representation is unable to render, please try loading this page with nbviewer.org.</b></div><div class=\"sk-container\" hidden><div class=\"sk-item\"><div class=\"sk-estimator sk-toggleable\"><input class=\"sk-toggleable__control sk-hidden--visually\" id=\"sk-estimator-id-3\" type=\"checkbox\" checked><label for=\"sk-estimator-id-3\" class=\"sk-toggleable__label sk-toggleable__label-arrow\">LinearRegression</label><div class=\"sk-toggleable__content\"><pre>LinearRegression()</pre></div></div></div></div></div>"
      ],
      "text/plain": [
       "LinearRegression()"
      ]
     },
     "execution_count": 65,
     "metadata": {},
     "output_type": "execute_result"
    }
   ],
   "source": [
    "from sklearn.preprocessing import PolynomialFeatures\n",
    "\n",
    "poly_features = PolynomialFeatures(degree=3).fit_transform(features)\n",
    "\n",
    "X_train, X_test, y_train, y_test = \\\n",
    "train_test_split(poly_features, targets, test_size=0.2, random_state=124)\n",
    "\n",
    "l_r = LinearRegression()\n",
    "l_r.fit(X_train, y_train)"
   ]
  },
  {
   "cell_type": "code",
   "execution_count": 66,
   "id": "f7a7e7cd-4124-4c9e-83c7-bc72cd43ee73",
   "metadata": {},
   "outputs": [
    {
     "name": "stdout",
     "output_type": "stream",
     "text": [
      "MSE: 0.3673, RMSE: 0.6060, MSLE: 0.0031, RMSLE: 0.0553, R2: 0.3839\n"
     ]
    }
   ],
   "source": [
    "prediction = l_r.predict(X_test)\n",
    "\n",
    "get_evaluation(y_test, prediction)"
   ]
  },
  {
   "cell_type": "code",
   "execution_count": null,
   "id": "5b8327e7-ce7a-4241-aa0a-805bea9a2607",
   "metadata": {},
   "outputs": [],
   "source": []
  }
 ],
 "metadata": {
  "kernelspec": {
   "display_name": "Python 3 (ipykernel)",
   "language": "python",
   "name": "python3"
  },
  "language_info": {
   "codemirror_mode": {
    "name": "ipython",
    "version": 3
   },
   "file_extension": ".py",
   "mimetype": "text/x-python",
   "name": "python",
   "nbconvert_exporter": "python",
   "pygments_lexer": "ipython3",
   "version": "3.11.8"
  }
 },
 "nbformat": 4,
 "nbformat_minor": 5
}
